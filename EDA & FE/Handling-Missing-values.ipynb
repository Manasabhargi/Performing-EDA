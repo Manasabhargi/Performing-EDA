{
 "cells": [
  {
   "cell_type": "markdown",
   "id": "5df761df",
   "metadata": {},
   "source": [
    "### Handling Missing Values"
   ]
  },
  {
   "cell_type": "code",
   "execution_count": 1,
   "id": "a9678316",
   "metadata": {},
   "outputs": [],
   "source": [
    "import pandas as pd\n",
    "import numpy as np\n",
    "import matplotlib.pyplot as plt\n",
    "import seaborn as sns\n",
    "%matplotlib inline\n",
    "import warnings\n",
    "warnings.filterwarnings('ignore')"
   ]
  },
  {
   "cell_type": "code",
   "execution_count": 2,
   "id": "92ab1d37",
   "metadata": {},
   "outputs": [],
   "source": [
    "data=pd.read_csv('Visadataset.csv')\n"
   ]
  },
  {
   "cell_type": "markdown",
   "id": "97d3fc8a",
   "metadata": {},
   "source": [
    "#### segregating categorical and numerical variables"
   ]
  },
  {
   "cell_type": "code",
   "execution_count": 3,
   "id": "adcd46a3",
   "metadata": {},
   "outputs": [
    {
     "data": {
      "text/plain": [
       "['no_of_employees', 'yr_of_estab', 'prevailing_wage']"
      ]
     },
     "execution_count": 3,
     "metadata": {},
     "output_type": "execute_result"
    }
   ],
   "source": [
    "num_col=[fea for fea in data.columns if (data[fea].dtype !='O' and data[fea].dtype !=int)]\n",
    "num_col\n"
   ]
  },
  {
   "cell_type": "code",
   "execution_count": 4,
   "id": "052db7ec",
   "metadata": {},
   "outputs": [
    {
     "data": {
      "text/plain": [
       "no_of_employees    0.0\n",
       "yr_of_estab        0.0\n",
       "prevailing_wage    0.0\n",
       "dtype: float64"
      ]
     },
     "execution_count": 4,
     "metadata": {},
     "output_type": "execute_result"
    }
   ],
   "source": [
    "data[num_col].isnull().mean()\n"
   ]
  },
  {
   "cell_type": "markdown",
   "id": "0bcf7a68",
   "metadata": {},
   "source": [
    "#### Method 1: Performing Mean Imputation"
   ]
  },
  {
   "cell_type": "code",
   "execution_count": 6,
   "id": "93b147f8",
   "metadata": {},
   "outputs": [],
   "source": [
    "for var in num_col:\n",
    "    value=data[var].mean()\n",
    "    data[var]=data[var].fillna(value)\n"
   ]
  },
  {
   "cell_type": "markdown",
   "id": "be01bdc5",
   "metadata": {},
   "source": [
    "#### # Checking after imputation"
   ]
  },
  {
   "cell_type": "code",
   "execution_count": 7,
   "id": "aa9dd0ea",
   "metadata": {},
   "outputs": [
    {
     "data": {
      "text/plain": [
       "no_of_employees    0.0\n",
       "yr_of_estab        0.0\n",
       "prevailing_wage    0.0\n",
       "dtype: float64"
      ]
     },
     "execution_count": 7,
     "metadata": {},
     "output_type": "execute_result"
    }
   ],
   "source": [
    "data[num_col].isnull().mean() "
   ]
  },
  {
   "cell_type": "markdown",
   "id": "a3a750c5",
   "metadata": {},
   "source": [
    "#### Method 2: Imputing Missing Values by mean using scikit-learn"
   ]
  },
  {
   "cell_type": "code",
   "execution_count": 8,
   "id": "f2ddfba9",
   "metadata": {},
   "outputs": [],
   "source": [
    "import sklearn\n",
    "from sklearn.impute import SimpleImputer\n",
    "imputer= SimpleImputer(strategy='mean')\n"
   ]
  },
  {
   "cell_type": "code",
   "execution_count": 10,
   "id": "69b63748",
   "metadata": {},
   "outputs": [],
   "source": [
    "#segregating categorical and numerical variables\n",
    "data=pd.read_csv('Visadataset.csv')\n",
    "num_col=[fea for fea in data.columns if (data[fea].dtype !='O' and data[fea].dtype !=int)]"
   ]
  },
  {
   "cell_type": "code",
   "execution_count": 11,
   "id": "d80a8d44",
   "metadata": {},
   "outputs": [],
   "source": [
    "X=data[num_col]\n"
   ]
  },
  {
   "cell_type": "code",
   "execution_count": 12,
   "id": "513e8c59",
   "metadata": {},
   "outputs": [
    {
     "data": {
      "text/plain": [
       "SimpleImputer()"
      ]
     },
     "execution_count": 12,
     "metadata": {},
     "output_type": "execute_result"
    }
   ],
   "source": [
    "# fitting SimpleImputer to the datafrane X\n",
    "imputer.fit(X) "
   ]
  },
  {
   "cell_type": "code",
   "execution_count": 13,
   "id": "75147c11",
   "metadata": {},
   "outputs": [
    {
     "data": {
      "text/html": [
       "<div>\n",
       "<style scoped>\n",
       "    .dataframe tbody tr th:only-of-type {\n",
       "        vertical-align: middle;\n",
       "    }\n",
       "\n",
       "    .dataframe tbody tr th {\n",
       "        vertical-align: top;\n",
       "    }\n",
       "\n",
       "    .dataframe thead th {\n",
       "        text-align: right;\n",
       "    }\n",
       "</style>\n",
       "<table border=\"1\" class=\"dataframe\">\n",
       "  <thead>\n",
       "    <tr style=\"text-align: right;\">\n",
       "      <th></th>\n",
       "      <th>no_of_employees</th>\n",
       "      <th>yr_of_estab</th>\n",
       "      <th>prevailing_wage</th>\n",
       "    </tr>\n",
       "  </thead>\n",
       "  <tbody>\n",
       "    <tr>\n",
       "      <th>0</th>\n",
       "      <td>14513</td>\n",
       "      <td>2007</td>\n",
       "      <td>592.2029</td>\n",
       "    </tr>\n",
       "    <tr>\n",
       "      <th>1</th>\n",
       "      <td>2412</td>\n",
       "      <td>2002</td>\n",
       "      <td>83425.6500</td>\n",
       "    </tr>\n",
       "    <tr>\n",
       "      <th>2</th>\n",
       "      <td>44444</td>\n",
       "      <td>2008</td>\n",
       "      <td>122996.8600</td>\n",
       "    </tr>\n",
       "    <tr>\n",
       "      <th>3</th>\n",
       "      <td>98</td>\n",
       "      <td>1897</td>\n",
       "      <td>83434.0300</td>\n",
       "    </tr>\n",
       "    <tr>\n",
       "      <th>4</th>\n",
       "      <td>1082</td>\n",
       "      <td>2005</td>\n",
       "      <td>149907.3900</td>\n",
       "    </tr>\n",
       "    <tr>\n",
       "      <th>...</th>\n",
       "      <td>...</td>\n",
       "      <td>...</td>\n",
       "      <td>...</td>\n",
       "    </tr>\n",
       "    <tr>\n",
       "      <th>25475</th>\n",
       "      <td>2601</td>\n",
       "      <td>2008</td>\n",
       "      <td>77092.5700</td>\n",
       "    </tr>\n",
       "    <tr>\n",
       "      <th>25476</th>\n",
       "      <td>3274</td>\n",
       "      <td>2006</td>\n",
       "      <td>279174.7900</td>\n",
       "    </tr>\n",
       "    <tr>\n",
       "      <th>25477</th>\n",
       "      <td>1121</td>\n",
       "      <td>1910</td>\n",
       "      <td>146298.8500</td>\n",
       "    </tr>\n",
       "    <tr>\n",
       "      <th>25478</th>\n",
       "      <td>1918</td>\n",
       "      <td>1887</td>\n",
       "      <td>86154.7700</td>\n",
       "    </tr>\n",
       "    <tr>\n",
       "      <th>25479</th>\n",
       "      <td>3195</td>\n",
       "      <td>1960</td>\n",
       "      <td>70876.9100</td>\n",
       "    </tr>\n",
       "  </tbody>\n",
       "</table>\n",
       "<p>25480 rows × 3 columns</p>\n",
       "</div>"
      ],
      "text/plain": [
       "       no_of_employees  yr_of_estab  prevailing_wage\n",
       "0                14513         2007         592.2029\n",
       "1                 2412         2002       83425.6500\n",
       "2                44444         2008      122996.8600\n",
       "3                   98         1897       83434.0300\n",
       "4                 1082         2005      149907.3900\n",
       "...                ...          ...              ...\n",
       "25475             2601         2008       77092.5700\n",
       "25476             3274         2006      279174.7900\n",
       "25477             1121         1910      146298.8500\n",
       "25478             1918         1887       86154.7700\n",
       "25479             3195         1960       70876.9100\n",
       "\n",
       "[25480 rows x 3 columns]"
      ]
     },
     "execution_count": 13,
     "metadata": {},
     "output_type": "execute_result"
    }
   ],
   "source": [
    "X"
   ]
  },
  {
   "cell_type": "code",
   "execution_count": 14,
   "id": "563a0cb9",
   "metadata": {},
   "outputs": [
    {
     "data": {
      "text/plain": [
       "array([[ 14513.    ,   2007.    ,    592.2029],\n",
       "       [  2412.    ,   2002.    ,  83425.65  ],\n",
       "       [ 44444.    ,   2008.    , 122996.86  ],\n",
       "       ...,\n",
       "       [  1121.    ,   1910.    , 146298.85  ],\n",
       "       [  1918.    ,   1887.    ,  86154.77  ],\n",
       "       [  3195.    ,   1960.    ,  70876.91  ]])"
      ]
     },
     "execution_count": 14,
     "metadata": {},
     "output_type": "execute_result"
    }
   ],
   "source": [
    "X=imputer.transform(X)\n",
    "X\n"
   ]
  },
  {
   "cell_type": "markdown",
   "id": "97044998",
   "metadata": {},
   "source": [
    "#### dataframe after mean imputation by sklearn's simple Imputer"
   ]
  },
  {
   "cell_type": "code",
   "execution_count": 15,
   "id": "bdd0446f",
   "metadata": {},
   "outputs": [
    {
     "data": {
      "text/html": [
       "<div>\n",
       "<style scoped>\n",
       "    .dataframe tbody tr th:only-of-type {\n",
       "        vertical-align: middle;\n",
       "    }\n",
       "\n",
       "    .dataframe tbody tr th {\n",
       "        vertical-align: top;\n",
       "    }\n",
       "\n",
       "    .dataframe thead th {\n",
       "        text-align: right;\n",
       "    }\n",
       "</style>\n",
       "<table border=\"1\" class=\"dataframe\">\n",
       "  <thead>\n",
       "    <tr style=\"text-align: right;\">\n",
       "      <th></th>\n",
       "      <th>no_of_employees</th>\n",
       "      <th>yr_of_estab</th>\n",
       "      <th>prevailing_wage</th>\n",
       "    </tr>\n",
       "  </thead>\n",
       "  <tbody>\n",
       "    <tr>\n",
       "      <th>0</th>\n",
       "      <td>14513.0</td>\n",
       "      <td>2007.0</td>\n",
       "      <td>592.2029</td>\n",
       "    </tr>\n",
       "    <tr>\n",
       "      <th>1</th>\n",
       "      <td>2412.0</td>\n",
       "      <td>2002.0</td>\n",
       "      <td>83425.6500</td>\n",
       "    </tr>\n",
       "    <tr>\n",
       "      <th>2</th>\n",
       "      <td>44444.0</td>\n",
       "      <td>2008.0</td>\n",
       "      <td>122996.8600</td>\n",
       "    </tr>\n",
       "    <tr>\n",
       "      <th>3</th>\n",
       "      <td>98.0</td>\n",
       "      <td>1897.0</td>\n",
       "      <td>83434.0300</td>\n",
       "    </tr>\n",
       "    <tr>\n",
       "      <th>4</th>\n",
       "      <td>1082.0</td>\n",
       "      <td>2005.0</td>\n",
       "      <td>149907.3900</td>\n",
       "    </tr>\n",
       "    <tr>\n",
       "      <th>...</th>\n",
       "      <td>...</td>\n",
       "      <td>...</td>\n",
       "      <td>...</td>\n",
       "    </tr>\n",
       "    <tr>\n",
       "      <th>25475</th>\n",
       "      <td>2601.0</td>\n",
       "      <td>2008.0</td>\n",
       "      <td>77092.5700</td>\n",
       "    </tr>\n",
       "    <tr>\n",
       "      <th>25476</th>\n",
       "      <td>3274.0</td>\n",
       "      <td>2006.0</td>\n",
       "      <td>279174.7900</td>\n",
       "    </tr>\n",
       "    <tr>\n",
       "      <th>25477</th>\n",
       "      <td>1121.0</td>\n",
       "      <td>1910.0</td>\n",
       "      <td>146298.8500</td>\n",
       "    </tr>\n",
       "    <tr>\n",
       "      <th>25478</th>\n",
       "      <td>1918.0</td>\n",
       "      <td>1887.0</td>\n",
       "      <td>86154.7700</td>\n",
       "    </tr>\n",
       "    <tr>\n",
       "      <th>25479</th>\n",
       "      <td>3195.0</td>\n",
       "      <td>1960.0</td>\n",
       "      <td>70876.9100</td>\n",
       "    </tr>\n",
       "  </tbody>\n",
       "</table>\n",
       "<p>25480 rows × 3 columns</p>\n",
       "</div>"
      ],
      "text/plain": [
       "       no_of_employees  yr_of_estab  prevailing_wage\n",
       "0              14513.0       2007.0         592.2029\n",
       "1               2412.0       2002.0       83425.6500\n",
       "2              44444.0       2008.0      122996.8600\n",
       "3                 98.0       1897.0       83434.0300\n",
       "4               1082.0       2005.0      149907.3900\n",
       "...                ...          ...              ...\n",
       "25475           2601.0       2008.0       77092.5700\n",
       "25476           3274.0       2006.0      279174.7900\n",
       "25477           1121.0       1910.0      146298.8500\n",
       "25478           1918.0       1887.0       86154.7700\n",
       "25479           3195.0       1960.0       70876.9100\n",
       "\n",
       "[25480 rows x 3 columns]"
      ]
     },
     "execution_count": 15,
     "metadata": {},
     "output_type": "execute_result"
    }
   ],
   "source": [
    "result=pd.DataFrame(X,columns=['no_of_employees',\n",
    "'yr_of_estab',\n",
    "'prevailing_wage',\n",
    "])\n",
    "result"
   ]
  },
  {
   "cell_type": "code",
   "execution_count": 16,
   "id": "3819825d",
   "metadata": {},
   "outputs": [
    {
     "data": {
      "text/plain": [
       "no_of_employees    0.0\n",
       "yr_of_estab        0.0\n",
       "prevailing_wage    0.0\n",
       "dtype: float64"
      ]
     },
     "execution_count": 16,
     "metadata": {},
     "output_type": "execute_result"
    }
   ],
   "source": [
    "# Checking after imputation\n",
    "result.isnull().mean()"
   ]
  },
  {
   "cell_type": "markdown",
   "id": "09987659",
   "metadata": {},
   "source": [
    "#### Method 3: Replacing missing values in categorical features by the feature’s mode"
   ]
  },
  {
   "cell_type": "code",
   "execution_count": 41,
   "id": "c9ad955a",
   "metadata": {},
   "outputs": [
    {
     "data": {
      "text/plain": [
       "['TypeofContact',\n",
       " 'Occupation',\n",
       " 'Gender',\n",
       " 'ProductPitched',\n",
       " 'MaritalStatus',\n",
       " 'Designation']"
      ]
     },
     "execution_count": 41,
     "metadata": {},
     "output_type": "execute_result"
    }
   ],
   "source": [
    "cat_col=[fea for fea in data.columns if data[fea].dtype =='O'] \n",
    "\n",
    "cat_col\n"
   ]
  },
  {
   "cell_type": "code",
   "execution_count": 42,
   "id": "7554ff69",
   "metadata": {},
   "outputs": [
    {
     "data": {
      "text/html": [
       "<div>\n",
       "<style scoped>\n",
       "    .dataframe tbody tr th:only-of-type {\n",
       "        vertical-align: middle;\n",
       "    }\n",
       "\n",
       "    .dataframe tbody tr th {\n",
       "        vertical-align: top;\n",
       "    }\n",
       "\n",
       "    .dataframe thead th {\n",
       "        text-align: right;\n",
       "    }\n",
       "</style>\n",
       "<table border=\"1\" class=\"dataframe\">\n",
       "  <thead>\n",
       "    <tr style=\"text-align: right;\">\n",
       "      <th></th>\n",
       "      <th>TypeofContact</th>\n",
       "      <th>Occupation</th>\n",
       "      <th>Gender</th>\n",
       "      <th>ProductPitched</th>\n",
       "      <th>MaritalStatus</th>\n",
       "      <th>Designation</th>\n",
       "    </tr>\n",
       "  </thead>\n",
       "  <tbody>\n",
       "    <tr>\n",
       "      <th>0</th>\n",
       "      <td>Self Enquiry</td>\n",
       "      <td>Salaried</td>\n",
       "      <td>Female</td>\n",
       "      <td>Deluxe</td>\n",
       "      <td>Single</td>\n",
       "      <td>Manager</td>\n",
       "    </tr>\n",
       "    <tr>\n",
       "      <th>1</th>\n",
       "      <td>Company Invited</td>\n",
       "      <td>Salaried</td>\n",
       "      <td>Male</td>\n",
       "      <td>Deluxe</td>\n",
       "      <td>Divorced</td>\n",
       "      <td>Manager</td>\n",
       "    </tr>\n",
       "    <tr>\n",
       "      <th>2</th>\n",
       "      <td>Self Enquiry</td>\n",
       "      <td>Free Lancer</td>\n",
       "      <td>Male</td>\n",
       "      <td>Basic</td>\n",
       "      <td>Single</td>\n",
       "      <td>Executive</td>\n",
       "    </tr>\n",
       "    <tr>\n",
       "      <th>3</th>\n",
       "      <td>Company Invited</td>\n",
       "      <td>Salaried</td>\n",
       "      <td>Female</td>\n",
       "      <td>Basic</td>\n",
       "      <td>Divorced</td>\n",
       "      <td>Executive</td>\n",
       "    </tr>\n",
       "    <tr>\n",
       "      <th>4</th>\n",
       "      <td>Self Enquiry</td>\n",
       "      <td>Small Business</td>\n",
       "      <td>Male</td>\n",
       "      <td>Basic</td>\n",
       "      <td>Divorced</td>\n",
       "      <td>Executive</td>\n",
       "    </tr>\n",
       "    <tr>\n",
       "      <th>...</th>\n",
       "      <td>...</td>\n",
       "      <td>...</td>\n",
       "      <td>...</td>\n",
       "      <td>...</td>\n",
       "      <td>...</td>\n",
       "      <td>...</td>\n",
       "    </tr>\n",
       "    <tr>\n",
       "      <th>4883</th>\n",
       "      <td>Self Enquiry</td>\n",
       "      <td>Small Business</td>\n",
       "      <td>Male</td>\n",
       "      <td>Deluxe</td>\n",
       "      <td>Unmarried</td>\n",
       "      <td>Manager</td>\n",
       "    </tr>\n",
       "    <tr>\n",
       "      <th>4884</th>\n",
       "      <td>Company Invited</td>\n",
       "      <td>Salaried</td>\n",
       "      <td>Male</td>\n",
       "      <td>Basic</td>\n",
       "      <td>Single</td>\n",
       "      <td>Executive</td>\n",
       "    </tr>\n",
       "    <tr>\n",
       "      <th>4885</th>\n",
       "      <td>Self Enquiry</td>\n",
       "      <td>Salaried</td>\n",
       "      <td>Female</td>\n",
       "      <td>Standard</td>\n",
       "      <td>Married</td>\n",
       "      <td>Senior Manager</td>\n",
       "    </tr>\n",
       "    <tr>\n",
       "      <th>4886</th>\n",
       "      <td>Self Enquiry</td>\n",
       "      <td>Small Business</td>\n",
       "      <td>Male</td>\n",
       "      <td>Basic</td>\n",
       "      <td>Single</td>\n",
       "      <td>Executive</td>\n",
       "    </tr>\n",
       "    <tr>\n",
       "      <th>4887</th>\n",
       "      <td>Self Enquiry</td>\n",
       "      <td>Salaried</td>\n",
       "      <td>Male</td>\n",
       "      <td>Basic</td>\n",
       "      <td>Unmarried</td>\n",
       "      <td>Executive</td>\n",
       "    </tr>\n",
       "  </tbody>\n",
       "</table>\n",
       "<p>4888 rows × 6 columns</p>\n",
       "</div>"
      ],
      "text/plain": [
       "        TypeofContact      Occupation  Gender ProductPitched MaritalStatus  \\\n",
       "0        Self Enquiry        Salaried  Female         Deluxe        Single   \n",
       "1     Company Invited        Salaried    Male         Deluxe      Divorced   \n",
       "2        Self Enquiry     Free Lancer    Male          Basic        Single   \n",
       "3     Company Invited        Salaried  Female          Basic      Divorced   \n",
       "4        Self Enquiry  Small Business    Male          Basic      Divorced   \n",
       "...               ...             ...     ...            ...           ...   \n",
       "4883     Self Enquiry  Small Business    Male         Deluxe     Unmarried   \n",
       "4884  Company Invited        Salaried    Male          Basic        Single   \n",
       "4885     Self Enquiry        Salaried  Female       Standard       Married   \n",
       "4886     Self Enquiry  Small Business    Male          Basic        Single   \n",
       "4887     Self Enquiry        Salaried    Male          Basic     Unmarried   \n",
       "\n",
       "         Designation  \n",
       "0            Manager  \n",
       "1            Manager  \n",
       "2          Executive  \n",
       "3          Executive  \n",
       "4          Executive  \n",
       "...              ...  \n",
       "4883         Manager  \n",
       "4884       Executive  \n",
       "4885  Senior Manager  \n",
       "4886       Executive  \n",
       "4887       Executive  \n",
       "\n",
       "[4888 rows x 6 columns]"
      ]
     },
     "execution_count": 42,
     "metadata": {},
     "output_type": "execute_result"
    }
   ],
   "source": [
    "X=data[cat_col]\n",
    "X\n"
   ]
  },
  {
   "cell_type": "code",
   "execution_count": 19,
   "id": "2d5952b4",
   "metadata": {},
   "outputs": [
    {
     "data": {
      "text/plain": [
       "case_id                  0.0\n",
       "continent                0.0\n",
       "education_of_employee    0.0\n",
       "has_job_experience       0.0\n",
       "requires_job_training    0.0\n",
       "region_of_employment     0.0\n",
       "unit_of_wage             0.0\n",
       "full_time_position       0.0\n",
       "case_status              0.0\n",
       "dtype: float64"
      ]
     },
     "execution_count": 19,
     "metadata": {},
     "output_type": "execute_result"
    }
   ],
   "source": [
    "X.isnull().mean()\n"
   ]
  },
  {
   "cell_type": "markdown",
   "id": "fe029334",
   "metadata": {},
   "source": [
    "No feature has missing value"
   ]
  },
  {
   "cell_type": "markdown",
   "id": "d4940f4c",
   "metadata": {},
   "source": [
    "#### Imputing using sklearn"
   ]
  },
  {
   "cell_type": "code",
   "execution_count": 20,
   "id": "e797b0f4",
   "metadata": {},
   "outputs": [
    {
     "data": {
      "text/plain": [
       "case_id                  0.0\n",
       "continent                0.0\n",
       "education_of_employee    0.0\n",
       "has_job_experience       0.0\n",
       "requires_job_training    0.0\n",
       "region_of_employment     0.0\n",
       "unit_of_wage             0.0\n",
       "full_time_position       0.0\n",
       "case_status              0.0\n",
       "dtype: float64"
      ]
     },
     "execution_count": 20,
     "metadata": {},
     "output_type": "execute_result"
    }
   ],
   "source": [
    "X_1=data[cat_col]\n",
    "imputer_1=SimpleImputer(strategy='most_frequent')\n",
    "X_1.isnull().mean()\n"
   ]
  },
  {
   "cell_type": "code",
   "execution_count": 21,
   "id": "a2d2beb7",
   "metadata": {},
   "outputs": [
    {
     "data": {
      "text/plain": [
       "array([['EZYV01', 'Asia', 'High School', ..., 'Hour', 'Y', 'Denied'],\n",
       "       ['EZYV02', 'Asia', \"Master's\", ..., 'Year', 'Y', 'Certified'],\n",
       "       ['EZYV03', 'Asia', \"Bachelor's\", ..., 'Year', 'Y', 'Denied'],\n",
       "       ...,\n",
       "       ['EZYV25478', 'Asia', \"Master's\", ..., 'Year', 'N', 'Certified'],\n",
       "       ['EZYV25479', 'Asia', \"Master's\", ..., 'Year', 'Y', 'Certified'],\n",
       "       ['EZYV25480', 'Asia', \"Bachelor's\", ..., 'Year', 'Y', 'Certified']],\n",
       "      dtype=object)"
      ]
     },
     "execution_count": 21,
     "metadata": {},
     "output_type": "execute_result"
    }
   ],
   "source": [
    "imputer_1.fit(X_1)\n",
    "X_1=imputer_1.transform(X_1)\n",
    "X_1\n"
   ]
  },
  {
   "cell_type": "markdown",
   "id": "6638403f",
   "metadata": {},
   "source": [
    "#### Method 4:Replacing Missing Values with an arbitary number"
   ]
  },
  {
   "cell_type": "code",
   "execution_count": 28,
   "id": "f7dc23e9",
   "metadata": {},
   "outputs": [],
   "source": [
    "data=pd.read_csv('Travel.csv')\n",
    "num_col=[fea for fea in data.columns if (data[fea].dtype !='O' and data[fea].dtype !=int)]\n",
    "#segregating categorical and numerical variables\n",
    "X=data[num_col]\n"
   ]
  },
  {
   "cell_type": "code",
   "execution_count": 30,
   "id": "0e298bb0",
   "metadata": {},
   "outputs": [
    {
     "data": {
      "text/plain": [
       "CustomerID                  204887.0\n",
       "ProdTaken                        1.0\n",
       "Age                             61.0\n",
       "CityTier                         3.0\n",
       "DurationOfPitch                127.0\n",
       "NumberOfPersonVisiting           5.0\n",
       "NumberOfFollowups                6.0\n",
       "PreferredPropertyStar            5.0\n",
       "NumberOfTrips                   22.0\n",
       "Passport                         1.0\n",
       "PitchSatisfactionScore           5.0\n",
       "OwnCar                           1.0\n",
       "NumberOfChildrenVisiting         3.0\n",
       "MonthlyIncome                98678.0\n",
       "dtype: float64"
      ]
     },
     "execution_count": 30,
     "metadata": {},
     "output_type": "execute_result"
    }
   ],
   "source": [
    "X.max()\n"
   ]
  },
  {
   "cell_type": "code",
   "execution_count": 29,
   "id": "47e02112",
   "metadata": {},
   "outputs": [
    {
     "data": {
      "text/plain": [
       "CustomerID                    0\n",
       "ProdTaken                     0\n",
       "Age                         226\n",
       "CityTier                      0\n",
       "DurationOfPitch             251\n",
       "NumberOfPersonVisiting        0\n",
       "NumberOfFollowups            45\n",
       "PreferredPropertyStar        26\n",
       "NumberOfTrips               140\n",
       "Passport                      0\n",
       "PitchSatisfactionScore        0\n",
       "OwnCar                        0\n",
       "NumberOfChildrenVisiting     66\n",
       "MonthlyIncome               233\n",
       "dtype: int64"
      ]
     },
     "execution_count": 29,
     "metadata": {},
     "output_type": "execute_result"
    }
   ],
   "source": [
    "X.isnull().sum()"
   ]
  },
  {
   "cell_type": "code",
   "execution_count": 31,
   "id": "b5a05783",
   "metadata": {},
   "outputs": [],
   "source": [
    "# Replacing by Null values by an arbitary␣number 70 for Age feature because it is greater than the max value of Age\n",
    "X['Age'].fillna(70,inplace=True)"
   ]
  },
  {
   "cell_type": "code",
   "execution_count": 32,
   "id": "ebda169b",
   "metadata": {},
   "outputs": [
    {
     "data": {
      "text/plain": [
       "CustomerID                    0\n",
       "ProdTaken                     0\n",
       "Age                           0\n",
       "CityTier                      0\n",
       "DurationOfPitch             251\n",
       "NumberOfPersonVisiting        0\n",
       "NumberOfFollowups            45\n",
       "PreferredPropertyStar        26\n",
       "NumberOfTrips               140\n",
       "Passport                      0\n",
       "PitchSatisfactionScore        0\n",
       "OwnCar                        0\n",
       "NumberOfChildrenVisiting     66\n",
       "MonthlyIncome               233\n",
       "dtype: int64"
      ]
     },
     "execution_count": 32,
     "metadata": {},
     "output_type": "execute_result"
    }
   ],
   "source": [
    "# Checking after imputation\n",
    "X.isnull().sum()"
   ]
  },
  {
   "cell_type": "markdown",
   "id": "6788bc54",
   "metadata": {},
   "source": [
    "#### Using sklearn"
   ]
  },
  {
   "cell_type": "code",
   "execution_count": 33,
   "id": "3cf4827c",
   "metadata": {},
   "outputs": [],
   "source": [
    "imputer=SimpleImputer(strategy='constant',fill_value=70)\n",
    "data=pd.read_csv('Travel.csv')\n",
    "X_1=data['Age'].to_numpy() # Converting to Numpy array\n",
    "X_1=X_1.reshape(-1, 1)"
   ]
  },
  {
   "cell_type": "code",
   "execution_count": 34,
   "id": "74fbbd07",
   "metadata": {},
   "outputs": [
    {
     "data": {
      "text/plain": [
       "SimpleImputer(fill_value=70, strategy='constant')"
      ]
     },
     "execution_count": 34,
     "metadata": {},
     "output_type": "execute_result"
    }
   ],
   "source": [
    "imputer.fit(X_1)"
   ]
  },
  {
   "cell_type": "code",
   "execution_count": 35,
   "id": "c10b967c",
   "metadata": {},
   "outputs": [],
   "source": [
    "X_1=imputer.transform(X_1)"
   ]
  },
  {
   "cell_type": "code",
   "execution_count": 37,
   "id": "088cee49",
   "metadata": {},
   "outputs": [
    {
     "data": {
      "text/plain": [
       "Age    0\n",
       "dtype: int64"
      ]
     },
     "execution_count": 37,
     "metadata": {},
     "output_type": "execute_result"
    }
   ],
   "source": [
    "# converting back to DataFrame from␣Numpy Array\n",
    "result_1=pd.DataFrame(X_1,columns=['Age'])\n",
    "    \n",
    "result_1.isnull().sum() \n"
   ]
  },
  {
   "cell_type": "code",
   "execution_count": 38,
   "id": "2551d9ad",
   "metadata": {},
   "outputs": [
    {
     "data": {
      "text/html": [
       "<div>\n",
       "<style scoped>\n",
       "    .dataframe tbody tr th:only-of-type {\n",
       "        vertical-align: middle;\n",
       "    }\n",
       "\n",
       "    .dataframe tbody tr th {\n",
       "        vertical-align: top;\n",
       "    }\n",
       "\n",
       "    .dataframe thead th {\n",
       "        text-align: right;\n",
       "    }\n",
       "</style>\n",
       "<table border=\"1\" class=\"dataframe\">\n",
       "  <thead>\n",
       "    <tr style=\"text-align: right;\">\n",
       "      <th></th>\n",
       "      <th>Age</th>\n",
       "    </tr>\n",
       "  </thead>\n",
       "  <tbody>\n",
       "    <tr>\n",
       "      <th>0</th>\n",
       "      <td>41.0</td>\n",
       "    </tr>\n",
       "    <tr>\n",
       "      <th>1</th>\n",
       "      <td>49.0</td>\n",
       "    </tr>\n",
       "    <tr>\n",
       "      <th>2</th>\n",
       "      <td>37.0</td>\n",
       "    </tr>\n",
       "    <tr>\n",
       "      <th>3</th>\n",
       "      <td>33.0</td>\n",
       "    </tr>\n",
       "    <tr>\n",
       "      <th>4</th>\n",
       "      <td>70.0</td>\n",
       "    </tr>\n",
       "    <tr>\n",
       "      <th>...</th>\n",
       "      <td>...</td>\n",
       "    </tr>\n",
       "    <tr>\n",
       "      <th>4883</th>\n",
       "      <td>49.0</td>\n",
       "    </tr>\n",
       "    <tr>\n",
       "      <th>4884</th>\n",
       "      <td>28.0</td>\n",
       "    </tr>\n",
       "    <tr>\n",
       "      <th>4885</th>\n",
       "      <td>52.0</td>\n",
       "    </tr>\n",
       "    <tr>\n",
       "      <th>4886</th>\n",
       "      <td>19.0</td>\n",
       "    </tr>\n",
       "    <tr>\n",
       "      <th>4887</th>\n",
       "      <td>36.0</td>\n",
       "    </tr>\n",
       "  </tbody>\n",
       "</table>\n",
       "<p>4888 rows × 1 columns</p>\n",
       "</div>"
      ],
      "text/plain": [
       "       Age\n",
       "0     41.0\n",
       "1     49.0\n",
       "2     37.0\n",
       "3     33.0\n",
       "4     70.0\n",
       "...    ...\n",
       "4883  49.0\n",
       "4884  28.0\n",
       "4885  52.0\n",
       "4886  19.0\n",
       "4887  36.0\n",
       "\n",
       "[4888 rows x 1 columns]"
      ]
     },
     "execution_count": 38,
     "metadata": {},
     "output_type": "execute_result"
    }
   ],
   "source": [
    "result_1\n"
   ]
  },
  {
   "cell_type": "markdown",
   "id": "7b5b4de4",
   "metadata": {},
   "source": [
    "#### Method 5: Replacing Missing Values in Categorical Variables"
   ]
  },
  {
   "cell_type": "code",
   "execution_count": 43,
   "id": "ebad0515",
   "metadata": {},
   "outputs": [
    {
     "data": {
      "text/plain": [
       "TypeofContact     25\n",
       "Occupation         0\n",
       "Gender             0\n",
       "ProductPitched     0\n",
       "MaritalStatus      0\n",
       "Designation        0\n",
       "dtype: int64"
      ]
     },
     "execution_count": 43,
     "metadata": {},
     "output_type": "execute_result"
    }
   ],
   "source": [
    "# We would replace missing values with a string \"Missing\"\n",
    "data=pd.read_csv('Travel.csv')\n",
    "X=data[cat_col] \n",
    "X.isnull().sum()\n"
   ]
  },
  {
   "cell_type": "code",
   "execution_count": 45,
   "id": "1bdd92b3",
   "metadata": {},
   "outputs": [],
   "source": [
    "for var in cat_col:\n",
    "    X[var].fillna('Missing',inplace=True)\n"
   ]
  },
  {
   "cell_type": "code",
   "execution_count": 46,
   "id": "0c9156c3",
   "metadata": {},
   "outputs": [
    {
     "data": {
      "text/plain": [
       "TypeofContact     0\n",
       "Occupation        0\n",
       "Gender            0\n",
       "ProductPitched    0\n",
       "MaritalStatus     0\n",
       "Designation       0\n",
       "dtype: int64"
      ]
     },
     "execution_count": 46,
     "metadata": {},
     "output_type": "execute_result"
    }
   ],
   "source": [
    "# Checking after Imputation\n",
    "X.isnull().sum()"
   ]
  },
  {
   "cell_type": "code",
   "execution_count": 47,
   "id": "a837c974",
   "metadata": {},
   "outputs": [
    {
     "data": {
      "text/plain": [
       "SimpleImputer(fill_value='Missing', strategy='constant')"
      ]
     },
     "execution_count": 47,
     "metadata": {},
     "output_type": "execute_result"
    }
   ],
   "source": [
    "# Using sklearn\n",
    "imputer=SimpleImputer(strategy='constant',fill_value='Missing')\n",
    "data=pd.read_csv('Travel.csv')\n",
    "X=data[cat_col]\n",
    "imputer.fit(X)"
   ]
  },
  {
   "cell_type": "code",
   "execution_count": 48,
   "id": "d369218e",
   "metadata": {},
   "outputs": [],
   "source": [
    " X=imputer.transform(X)"
   ]
  },
  {
   "cell_type": "code",
   "execution_count": 49,
   "id": "f1ebf171",
   "metadata": {},
   "outputs": [
    {
     "data": {
      "text/plain": [
       "array([['Self Enquiry', 'Salaried', 'Female', 'Deluxe', 'Single',\n",
       "        'Manager'],\n",
       "       ['Company Invited', 'Salaried', 'Male', 'Deluxe', 'Divorced',\n",
       "        'Manager'],\n",
       "       ['Self Enquiry', 'Free Lancer', 'Male', 'Basic', 'Single',\n",
       "        'Executive'],\n",
       "       ...,\n",
       "       ['Self Enquiry', 'Salaried', 'Female', 'Standard', 'Married',\n",
       "        'Senior Manager'],\n",
       "       ['Self Enquiry', 'Small Business', 'Male', 'Basic', 'Single',\n",
       "        'Executive'],\n",
       "       ['Self Enquiry', 'Salaried', 'Male', 'Basic', 'Unmarried',\n",
       "        'Executive']], dtype=object)"
      ]
     },
     "execution_count": 49,
     "metadata": {},
     "output_type": "execute_result"
    }
   ],
   "source": [
    "X"
   ]
  },
  {
   "cell_type": "code",
   "execution_count": 50,
   "id": "5fdf51b2",
   "metadata": {},
   "outputs": [
    {
     "data": {
      "text/plain": [
       "0    0\n",
       "1    0\n",
       "2    0\n",
       "3    0\n",
       "4    0\n",
       "5    0\n",
       "dtype: int64"
      ]
     },
     "execution_count": 50,
     "metadata": {},
     "output_type": "execute_result"
    }
   ],
   "source": [
    "# converting back to DataFrame from Numpy Array\n",
    "result_1=pd.DataFrame(X)\n",
    "result_1.isnull().sum() # Checking after Imputation"
   ]
  },
  {
   "cell_type": "raw",
   "id": "faf52859",
   "metadata": {},
   "source": [
    "Method 6:\n",
    "Replacing missing values with a value at the end of the distribution\n",
    "Replacing missing values with a value at the end of the distribution, is equivalent to replacing with\n",
    "an arbitary value manually. But in this case we do it by automatically selecting as those at the\n",
    "very end of the variable distribution. As per the IQR proximity rule,missing values are replaced\n",
    "with q3+1.5(IQR) at the right tail or by q1-1.5(IQR) at the left tail."
   ]
  },
  {
   "cell_type": "code",
   "execution_count": 51,
   "id": "e7241b7b",
   "metadata": {},
   "outputs": [
    {
     "data": {
      "text/plain": [
       "CustomerID                    0\n",
       "ProdTaken                     0\n",
       "Age                         226\n",
       "CityTier                      0\n",
       "DurationOfPitch             251\n",
       "NumberOfPersonVisiting        0\n",
       "NumberOfFollowups            45\n",
       "PreferredPropertyStar        26\n",
       "NumberOfTrips               140\n",
       "Passport                      0\n",
       "PitchSatisfactionScore        0\n",
       "OwnCar                        0\n",
       "NumberOfChildrenVisiting     66\n",
       "MonthlyIncome               233\n",
       "dtype: int64"
      ]
     },
     "execution_count": 51,
     "metadata": {},
     "output_type": "execute_result"
    }
   ],
   "source": [
    "X=data[num_col]\n",
    "X.isnull().sum()"
   ]
  },
  {
   "cell_type": "code",
   "execution_count": 53,
   "id": "141bcf39",
   "metadata": {},
   "outputs": [],
   "source": [
    "for var in num_col:\n",
    "    IQR =X[var].quantile(0.75)-X[var].quantile(0.25)\n",
    "    value=X[var].quantile(0.75)+(1.5*IQR)\n",
    "    X[var]=X[var].fillna(value)\n"
   ]
  },
  {
   "cell_type": "code",
   "execution_count": 54,
   "id": "c31bda9f",
   "metadata": {},
   "outputs": [
    {
     "data": {
      "text/html": [
       "<div>\n",
       "<style scoped>\n",
       "    .dataframe tbody tr th:only-of-type {\n",
       "        vertical-align: middle;\n",
       "    }\n",
       "\n",
       "    .dataframe tbody tr th {\n",
       "        vertical-align: top;\n",
       "    }\n",
       "\n",
       "    .dataframe thead th {\n",
       "        text-align: right;\n",
       "    }\n",
       "</style>\n",
       "<table border=\"1\" class=\"dataframe\">\n",
       "  <thead>\n",
       "    <tr style=\"text-align: right;\">\n",
       "      <th></th>\n",
       "      <th>CustomerID</th>\n",
       "      <th>ProdTaken</th>\n",
       "      <th>Age</th>\n",
       "      <th>CityTier</th>\n",
       "      <th>DurationOfPitch</th>\n",
       "      <th>NumberOfPersonVisiting</th>\n",
       "      <th>NumberOfFollowups</th>\n",
       "      <th>PreferredPropertyStar</th>\n",
       "      <th>NumberOfTrips</th>\n",
       "      <th>Passport</th>\n",
       "      <th>PitchSatisfactionScore</th>\n",
       "      <th>OwnCar</th>\n",
       "      <th>NumberOfChildrenVisiting</th>\n",
       "      <th>MonthlyIncome</th>\n",
       "    </tr>\n",
       "  </thead>\n",
       "  <tbody>\n",
       "    <tr>\n",
       "      <th>0</th>\n",
       "      <td>200000</td>\n",
       "      <td>1</td>\n",
       "      <td>41.0</td>\n",
       "      <td>3</td>\n",
       "      <td>6.0</td>\n",
       "      <td>3</td>\n",
       "      <td>3.0</td>\n",
       "      <td>3.0</td>\n",
       "      <td>1.0</td>\n",
       "      <td>1</td>\n",
       "      <td>2</td>\n",
       "      <td>1</td>\n",
       "      <td>0.0</td>\n",
       "      <td>20993.0</td>\n",
       "    </tr>\n",
       "    <tr>\n",
       "      <th>1</th>\n",
       "      <td>200001</td>\n",
       "      <td>0</td>\n",
       "      <td>49.0</td>\n",
       "      <td>1</td>\n",
       "      <td>14.0</td>\n",
       "      <td>3</td>\n",
       "      <td>4.0</td>\n",
       "      <td>4.0</td>\n",
       "      <td>2.0</td>\n",
       "      <td>0</td>\n",
       "      <td>3</td>\n",
       "      <td>1</td>\n",
       "      <td>2.0</td>\n",
       "      <td>20130.0</td>\n",
       "    </tr>\n",
       "    <tr>\n",
       "      <th>2</th>\n",
       "      <td>200002</td>\n",
       "      <td>1</td>\n",
       "      <td>37.0</td>\n",
       "      <td>1</td>\n",
       "      <td>8.0</td>\n",
       "      <td>3</td>\n",
       "      <td>4.0</td>\n",
       "      <td>3.0</td>\n",
       "      <td>7.0</td>\n",
       "      <td>1</td>\n",
       "      <td>3</td>\n",
       "      <td>0</td>\n",
       "      <td>0.0</td>\n",
       "      <td>17090.0</td>\n",
       "    </tr>\n",
       "    <tr>\n",
       "      <th>3</th>\n",
       "      <td>200003</td>\n",
       "      <td>0</td>\n",
       "      <td>33.0</td>\n",
       "      <td>1</td>\n",
       "      <td>9.0</td>\n",
       "      <td>2</td>\n",
       "      <td>3.0</td>\n",
       "      <td>3.0</td>\n",
       "      <td>2.0</td>\n",
       "      <td>1</td>\n",
       "      <td>5</td>\n",
       "      <td>1</td>\n",
       "      <td>1.0</td>\n",
       "      <td>17909.0</td>\n",
       "    </tr>\n",
       "    <tr>\n",
       "      <th>4</th>\n",
       "      <td>200004</td>\n",
       "      <td>0</td>\n",
       "      <td>63.5</td>\n",
       "      <td>1</td>\n",
       "      <td>8.0</td>\n",
       "      <td>2</td>\n",
       "      <td>3.0</td>\n",
       "      <td>4.0</td>\n",
       "      <td>1.0</td>\n",
       "      <td>0</td>\n",
       "      <td>5</td>\n",
       "      <td>1</td>\n",
       "      <td>0.0</td>\n",
       "      <td>18468.0</td>\n",
       "    </tr>\n",
       "    <tr>\n",
       "      <th>...</th>\n",
       "      <td>...</td>\n",
       "      <td>...</td>\n",
       "      <td>...</td>\n",
       "      <td>...</td>\n",
       "      <td>...</td>\n",
       "      <td>...</td>\n",
       "      <td>...</td>\n",
       "      <td>...</td>\n",
       "      <td>...</td>\n",
       "      <td>...</td>\n",
       "      <td>...</td>\n",
       "      <td>...</td>\n",
       "      <td>...</td>\n",
       "      <td>...</td>\n",
       "    </tr>\n",
       "    <tr>\n",
       "      <th>4883</th>\n",
       "      <td>204883</td>\n",
       "      <td>1</td>\n",
       "      <td>49.0</td>\n",
       "      <td>3</td>\n",
       "      <td>9.0</td>\n",
       "      <td>3</td>\n",
       "      <td>5.0</td>\n",
       "      <td>4.0</td>\n",
       "      <td>2.0</td>\n",
       "      <td>1</td>\n",
       "      <td>1</td>\n",
       "      <td>1</td>\n",
       "      <td>1.0</td>\n",
       "      <td>26576.0</td>\n",
       "    </tr>\n",
       "    <tr>\n",
       "      <th>4884</th>\n",
       "      <td>204884</td>\n",
       "      <td>1</td>\n",
       "      <td>28.0</td>\n",
       "      <td>1</td>\n",
       "      <td>31.0</td>\n",
       "      <td>4</td>\n",
       "      <td>5.0</td>\n",
       "      <td>3.0</td>\n",
       "      <td>3.0</td>\n",
       "      <td>1</td>\n",
       "      <td>3</td>\n",
       "      <td>1</td>\n",
       "      <td>2.0</td>\n",
       "      <td>21212.0</td>\n",
       "    </tr>\n",
       "    <tr>\n",
       "      <th>4885</th>\n",
       "      <td>204885</td>\n",
       "      <td>1</td>\n",
       "      <td>52.0</td>\n",
       "      <td>3</td>\n",
       "      <td>17.0</td>\n",
       "      <td>4</td>\n",
       "      <td>4.0</td>\n",
       "      <td>4.0</td>\n",
       "      <td>7.0</td>\n",
       "      <td>0</td>\n",
       "      <td>1</td>\n",
       "      <td>1</td>\n",
       "      <td>3.0</td>\n",
       "      <td>31820.0</td>\n",
       "    </tr>\n",
       "    <tr>\n",
       "      <th>4886</th>\n",
       "      <td>204886</td>\n",
       "      <td>1</td>\n",
       "      <td>19.0</td>\n",
       "      <td>3</td>\n",
       "      <td>16.0</td>\n",
       "      <td>3</td>\n",
       "      <td>4.0</td>\n",
       "      <td>3.0</td>\n",
       "      <td>3.0</td>\n",
       "      <td>0</td>\n",
       "      <td>5</td>\n",
       "      <td>0</td>\n",
       "      <td>2.0</td>\n",
       "      <td>20289.0</td>\n",
       "    </tr>\n",
       "    <tr>\n",
       "      <th>4887</th>\n",
       "      <td>204887</td>\n",
       "      <td>1</td>\n",
       "      <td>36.0</td>\n",
       "      <td>1</td>\n",
       "      <td>14.0</td>\n",
       "      <td>4</td>\n",
       "      <td>4.0</td>\n",
       "      <td>4.0</td>\n",
       "      <td>3.0</td>\n",
       "      <td>1</td>\n",
       "      <td>3</td>\n",
       "      <td>1</td>\n",
       "      <td>2.0</td>\n",
       "      <td>24041.0</td>\n",
       "    </tr>\n",
       "  </tbody>\n",
       "</table>\n",
       "<p>4888 rows × 14 columns</p>\n",
       "</div>"
      ],
      "text/plain": [
       "      CustomerID  ProdTaken   Age  CityTier  DurationOfPitch  \\\n",
       "0         200000          1  41.0         3              6.0   \n",
       "1         200001          0  49.0         1             14.0   \n",
       "2         200002          1  37.0         1              8.0   \n",
       "3         200003          0  33.0         1              9.0   \n",
       "4         200004          0  63.5         1              8.0   \n",
       "...          ...        ...   ...       ...              ...   \n",
       "4883      204883          1  49.0         3              9.0   \n",
       "4884      204884          1  28.0         1             31.0   \n",
       "4885      204885          1  52.0         3             17.0   \n",
       "4886      204886          1  19.0         3             16.0   \n",
       "4887      204887          1  36.0         1             14.0   \n",
       "\n",
       "      NumberOfPersonVisiting  NumberOfFollowups  PreferredPropertyStar  \\\n",
       "0                          3                3.0                    3.0   \n",
       "1                          3                4.0                    4.0   \n",
       "2                          3                4.0                    3.0   \n",
       "3                          2                3.0                    3.0   \n",
       "4                          2                3.0                    4.0   \n",
       "...                      ...                ...                    ...   \n",
       "4883                       3                5.0                    4.0   \n",
       "4884                       4                5.0                    3.0   \n",
       "4885                       4                4.0                    4.0   \n",
       "4886                       3                4.0                    3.0   \n",
       "4887                       4                4.0                    4.0   \n",
       "\n",
       "      NumberOfTrips  Passport  PitchSatisfactionScore  OwnCar  \\\n",
       "0               1.0         1                       2       1   \n",
       "1               2.0         0                       3       1   \n",
       "2               7.0         1                       3       0   \n",
       "3               2.0         1                       5       1   \n",
       "4               1.0         0                       5       1   \n",
       "...             ...       ...                     ...     ...   \n",
       "4883            2.0         1                       1       1   \n",
       "4884            3.0         1                       3       1   \n",
       "4885            7.0         0                       1       1   \n",
       "4886            3.0         0                       5       0   \n",
       "4887            3.0         1                       3       1   \n",
       "\n",
       "      NumberOfChildrenVisiting  MonthlyIncome  \n",
       "0                          0.0        20993.0  \n",
       "1                          2.0        20130.0  \n",
       "2                          0.0        17090.0  \n",
       "3                          1.0        17909.0  \n",
       "4                          0.0        18468.0  \n",
       "...                        ...            ...  \n",
       "4883                       1.0        26576.0  \n",
       "4884                       2.0        21212.0  \n",
       "4885                       3.0        31820.0  \n",
       "4886                       2.0        20289.0  \n",
       "4887                       2.0        24041.0  \n",
       "\n",
       "[4888 rows x 14 columns]"
      ]
     },
     "execution_count": 54,
     "metadata": {},
     "output_type": "execute_result"
    }
   ],
   "source": [
    "X"
   ]
  },
  {
   "cell_type": "code",
   "execution_count": 55,
   "id": "0361a626",
   "metadata": {},
   "outputs": [
    {
     "data": {
      "text/plain": [
       "CustomerID                  0\n",
       "ProdTaken                   0\n",
       "Age                         0\n",
       "CityTier                    0\n",
       "DurationOfPitch             0\n",
       "NumberOfPersonVisiting      0\n",
       "NumberOfFollowups           0\n",
       "PreferredPropertyStar       0\n",
       "NumberOfTrips               0\n",
       "Passport                    0\n",
       "PitchSatisfactionScore      0\n",
       "OwnCar                      0\n",
       "NumberOfChildrenVisiting    0\n",
       "MonthlyIncome               0\n",
       "dtype: int64"
      ]
     },
     "execution_count": 55,
     "metadata": {},
     "output_type": "execute_result"
    }
   ],
   "source": [
    "X.isnull().sum()# Checking after imputation"
   ]
  },
  {
   "cell_type": "code",
   "execution_count": 57,
   "id": "3883802c",
   "metadata": {},
   "outputs": [
    {
     "name": "stdout",
     "output_type": "stream",
     "text": [
      "Collecting feature-engine\n",
      "  Downloading feature_engine-1.4.1-py2.py3-none-any.whl (276 kB)\n",
      "Requirement already satisfied: statsmodels>=0.11.1 in d:\\ineuron\\lib\\site-packages (from feature-engine) (0.13.2)\n",
      "Requirement already satisfied: scikit-learn>=1.0.0 in d:\\ineuron\\lib\\site-packages (from feature-engine) (1.0.2)\n",
      "Requirement already satisfied: pandas>=1.0.3 in d:\\ineuron\\lib\\site-packages (from feature-engine) (1.4.2)\n",
      "Requirement already satisfied: numpy>=1.18.2 in d:\\ineuron\\lib\\site-packages (from feature-engine) (1.21.5)\n",
      "Requirement already satisfied: scipy>=1.4.1 in d:\\ineuron\\lib\\site-packages (from feature-engine) (1.7.3)\n",
      "Requirement already satisfied: pytz>=2020.1 in d:\\ineuron\\lib\\site-packages (from pandas>=1.0.3->feature-engine) (2021.3)\n",
      "Requirement already satisfied: python-dateutil>=2.8.1 in d:\\ineuron\\lib\\site-packages (from pandas>=1.0.3->feature-engine) (2.8.2)\n",
      "Requirement already satisfied: six>=1.5 in d:\\ineuron\\lib\\site-packages (from python-dateutil>=2.8.1->pandas>=1.0.3->feature-engine) (1.16.0)\n",
      "Requirement already satisfied: threadpoolctl>=2.0.0 in d:\\ineuron\\lib\\site-packages (from scikit-learn>=1.0.0->feature-engine) (2.2.0)\n",
      "Requirement already satisfied: joblib>=0.11 in d:\\ineuron\\lib\\site-packages (from scikit-learn>=1.0.0->feature-engine) (1.1.0)\n",
      "Requirement already satisfied: patsy>=0.5.2 in d:\\ineuron\\lib\\site-packages (from statsmodels>=0.11.1->feature-engine) (0.5.2)\n",
      "Requirement already satisfied: packaging>=21.3 in d:\\ineuron\\lib\\site-packages (from statsmodels>=0.11.1->feature-engine) (21.3)\n",
      "Requirement already satisfied: pyparsing!=3.0.5,>=2.0.2 in d:\\ineuron\\lib\\site-packages (from packaging>=21.3->statsmodels>=0.11.1->feature-engine) (3.0.4)\n",
      "Installing collected packages: feature-engine\n",
      "Successfully installed feature-engine-1.4.1\n",
      "Note: you may need to restart the kernel to use updated packages.\n"
     ]
    }
   ],
   "source": [
    "pip install feature-engine"
   ]
  },
  {
   "cell_type": "code",
   "execution_count": 58,
   "id": "a07a41b8",
   "metadata": {},
   "outputs": [],
   "source": [
    "# Doing the same with feature Engine\n",
    "X=data[num_col]\n",
    "import feature_engine\n",
    "from feature_engine.imputation import EndTailImputer"
   ]
  },
  {
   "cell_type": "code",
   "execution_count": 59,
   "id": "c628f579",
   "metadata": {},
   "outputs": [
    {
     "data": {
      "text/plain": [
       "EndTailImputer(variables=['CustomerID', 'ProdTaken', 'Age', 'CityTier',\n",
       "                          'DurationOfPitch', 'NumberOfPersonVisiting',\n",
       "                          'NumberOfFollowups', 'PreferredPropertyStar',\n",
       "                          'NumberOfTrips', 'Passport', 'PitchSatisfactionScore',\n",
       "                          'OwnCar', 'NumberOfChildrenVisiting',\n",
       "                          'MonthlyIncome'])"
      ]
     },
     "execution_count": 59,
     "metadata": {},
     "output_type": "execute_result"
    }
   ],
   "source": [
    "# set up the imputer\n",
    "tail_imputer = EndTailImputer(imputation_method='gaussian',\n",
    "tail='right',\n",
    "fold=3,\n",
    "variables=num_col)\n",
    "# fit the imputer\n",
    "tail_imputer.fit(X)\n"
   ]
  },
  {
   "cell_type": "code",
   "execution_count": 60,
   "id": "96f9e156",
   "metadata": {},
   "outputs": [
    {
     "data": {
      "text/html": [
       "<div>\n",
       "<style scoped>\n",
       "    .dataframe tbody tr th:only-of-type {\n",
       "        vertical-align: middle;\n",
       "    }\n",
       "\n",
       "    .dataframe tbody tr th {\n",
       "        vertical-align: top;\n",
       "    }\n",
       "\n",
       "    .dataframe thead th {\n",
       "        text-align: right;\n",
       "    }\n",
       "</style>\n",
       "<table border=\"1\" class=\"dataframe\">\n",
       "  <thead>\n",
       "    <tr style=\"text-align: right;\">\n",
       "      <th></th>\n",
       "      <th>CustomerID</th>\n",
       "      <th>ProdTaken</th>\n",
       "      <th>Age</th>\n",
       "      <th>CityTier</th>\n",
       "      <th>DurationOfPitch</th>\n",
       "      <th>NumberOfPersonVisiting</th>\n",
       "      <th>NumberOfFollowups</th>\n",
       "      <th>PreferredPropertyStar</th>\n",
       "      <th>NumberOfTrips</th>\n",
       "      <th>Passport</th>\n",
       "      <th>PitchSatisfactionScore</th>\n",
       "      <th>OwnCar</th>\n",
       "      <th>NumberOfChildrenVisiting</th>\n",
       "      <th>MonthlyIncome</th>\n",
       "    </tr>\n",
       "  </thead>\n",
       "  <tbody>\n",
       "    <tr>\n",
       "      <th>0</th>\n",
       "      <td>200000</td>\n",
       "      <td>1</td>\n",
       "      <td>41.000000</td>\n",
       "      <td>3</td>\n",
       "      <td>6.0</td>\n",
       "      <td>3</td>\n",
       "      <td>3.0</td>\n",
       "      <td>3.0</td>\n",
       "      <td>1.0</td>\n",
       "      <td>1</td>\n",
       "      <td>2</td>\n",
       "      <td>1</td>\n",
       "      <td>0.0</td>\n",
       "      <td>20993.0</td>\n",
       "    </tr>\n",
       "    <tr>\n",
       "      <th>1</th>\n",
       "      <td>200001</td>\n",
       "      <td>0</td>\n",
       "      <td>49.000000</td>\n",
       "      <td>1</td>\n",
       "      <td>14.0</td>\n",
       "      <td>3</td>\n",
       "      <td>4.0</td>\n",
       "      <td>4.0</td>\n",
       "      <td>2.0</td>\n",
       "      <td>0</td>\n",
       "      <td>3</td>\n",
       "      <td>1</td>\n",
       "      <td>2.0</td>\n",
       "      <td>20130.0</td>\n",
       "    </tr>\n",
       "    <tr>\n",
       "      <th>2</th>\n",
       "      <td>200002</td>\n",
       "      <td>1</td>\n",
       "      <td>37.000000</td>\n",
       "      <td>1</td>\n",
       "      <td>8.0</td>\n",
       "      <td>3</td>\n",
       "      <td>4.0</td>\n",
       "      <td>3.0</td>\n",
       "      <td>7.0</td>\n",
       "      <td>1</td>\n",
       "      <td>3</td>\n",
       "      <td>0</td>\n",
       "      <td>0.0</td>\n",
       "      <td>17090.0</td>\n",
       "    </tr>\n",
       "    <tr>\n",
       "      <th>3</th>\n",
       "      <td>200003</td>\n",
       "      <td>0</td>\n",
       "      <td>33.000000</td>\n",
       "      <td>1</td>\n",
       "      <td>9.0</td>\n",
       "      <td>2</td>\n",
       "      <td>3.0</td>\n",
       "      <td>3.0</td>\n",
       "      <td>2.0</td>\n",
       "      <td>1</td>\n",
       "      <td>5</td>\n",
       "      <td>1</td>\n",
       "      <td>1.0</td>\n",
       "      <td>17909.0</td>\n",
       "    </tr>\n",
       "    <tr>\n",
       "      <th>4</th>\n",
       "      <td>200004</td>\n",
       "      <td>0</td>\n",
       "      <td>65.571426</td>\n",
       "      <td>1</td>\n",
       "      <td>8.0</td>\n",
       "      <td>2</td>\n",
       "      <td>3.0</td>\n",
       "      <td>4.0</td>\n",
       "      <td>1.0</td>\n",
       "      <td>0</td>\n",
       "      <td>5</td>\n",
       "      <td>1</td>\n",
       "      <td>0.0</td>\n",
       "      <td>18468.0</td>\n",
       "    </tr>\n",
       "    <tr>\n",
       "      <th>...</th>\n",
       "      <td>...</td>\n",
       "      <td>...</td>\n",
       "      <td>...</td>\n",
       "      <td>...</td>\n",
       "      <td>...</td>\n",
       "      <td>...</td>\n",
       "      <td>...</td>\n",
       "      <td>...</td>\n",
       "      <td>...</td>\n",
       "      <td>...</td>\n",
       "      <td>...</td>\n",
       "      <td>...</td>\n",
       "      <td>...</td>\n",
       "      <td>...</td>\n",
       "    </tr>\n",
       "    <tr>\n",
       "      <th>4883</th>\n",
       "      <td>204883</td>\n",
       "      <td>1</td>\n",
       "      <td>49.000000</td>\n",
       "      <td>3</td>\n",
       "      <td>9.0</td>\n",
       "      <td>3</td>\n",
       "      <td>5.0</td>\n",
       "      <td>4.0</td>\n",
       "      <td>2.0</td>\n",
       "      <td>1</td>\n",
       "      <td>1</td>\n",
       "      <td>1</td>\n",
       "      <td>1.0</td>\n",
       "      <td>26576.0</td>\n",
       "    </tr>\n",
       "    <tr>\n",
       "      <th>4884</th>\n",
       "      <td>204884</td>\n",
       "      <td>1</td>\n",
       "      <td>28.000000</td>\n",
       "      <td>1</td>\n",
       "      <td>31.0</td>\n",
       "      <td>4</td>\n",
       "      <td>5.0</td>\n",
       "      <td>3.0</td>\n",
       "      <td>3.0</td>\n",
       "      <td>1</td>\n",
       "      <td>3</td>\n",
       "      <td>1</td>\n",
       "      <td>2.0</td>\n",
       "      <td>21212.0</td>\n",
       "    </tr>\n",
       "    <tr>\n",
       "      <th>4885</th>\n",
       "      <td>204885</td>\n",
       "      <td>1</td>\n",
       "      <td>52.000000</td>\n",
       "      <td>3</td>\n",
       "      <td>17.0</td>\n",
       "      <td>4</td>\n",
       "      <td>4.0</td>\n",
       "      <td>4.0</td>\n",
       "      <td>7.0</td>\n",
       "      <td>0</td>\n",
       "      <td>1</td>\n",
       "      <td>1</td>\n",
       "      <td>3.0</td>\n",
       "      <td>31820.0</td>\n",
       "    </tr>\n",
       "    <tr>\n",
       "      <th>4886</th>\n",
       "      <td>204886</td>\n",
       "      <td>1</td>\n",
       "      <td>19.000000</td>\n",
       "      <td>3</td>\n",
       "      <td>16.0</td>\n",
       "      <td>3</td>\n",
       "      <td>4.0</td>\n",
       "      <td>3.0</td>\n",
       "      <td>3.0</td>\n",
       "      <td>0</td>\n",
       "      <td>5</td>\n",
       "      <td>0</td>\n",
       "      <td>2.0</td>\n",
       "      <td>20289.0</td>\n",
       "    </tr>\n",
       "    <tr>\n",
       "      <th>4887</th>\n",
       "      <td>204887</td>\n",
       "      <td>1</td>\n",
       "      <td>36.000000</td>\n",
       "      <td>1</td>\n",
       "      <td>14.0</td>\n",
       "      <td>4</td>\n",
       "      <td>4.0</td>\n",
       "      <td>4.0</td>\n",
       "      <td>3.0</td>\n",
       "      <td>1</td>\n",
       "      <td>3</td>\n",
       "      <td>1</td>\n",
       "      <td>2.0</td>\n",
       "      <td>24041.0</td>\n",
       "    </tr>\n",
       "  </tbody>\n",
       "</table>\n",
       "<p>4888 rows × 14 columns</p>\n",
       "</div>"
      ],
      "text/plain": [
       "      CustomerID  ProdTaken        Age  CityTier  DurationOfPitch  \\\n",
       "0         200000          1  41.000000         3              6.0   \n",
       "1         200001          0  49.000000         1             14.0   \n",
       "2         200002          1  37.000000         1              8.0   \n",
       "3         200003          0  33.000000         1              9.0   \n",
       "4         200004          0  65.571426         1              8.0   \n",
       "...          ...        ...        ...       ...              ...   \n",
       "4883      204883          1  49.000000         3              9.0   \n",
       "4884      204884          1  28.000000         1             31.0   \n",
       "4885      204885          1  52.000000         3             17.0   \n",
       "4886      204886          1  19.000000         3             16.0   \n",
       "4887      204887          1  36.000000         1             14.0   \n",
       "\n",
       "      NumberOfPersonVisiting  NumberOfFollowups  PreferredPropertyStar  \\\n",
       "0                          3                3.0                    3.0   \n",
       "1                          3                4.0                    4.0   \n",
       "2                          3                4.0                    3.0   \n",
       "3                          2                3.0                    3.0   \n",
       "4                          2                3.0                    4.0   \n",
       "...                      ...                ...                    ...   \n",
       "4883                       3                5.0                    4.0   \n",
       "4884                       4                5.0                    3.0   \n",
       "4885                       4                4.0                    4.0   \n",
       "4886                       3                4.0                    3.0   \n",
       "4887                       4                4.0                    4.0   \n",
       "\n",
       "      NumberOfTrips  Passport  PitchSatisfactionScore  OwnCar  \\\n",
       "0               1.0         1                       2       1   \n",
       "1               2.0         0                       3       1   \n",
       "2               7.0         1                       3       0   \n",
       "3               2.0         1                       5       1   \n",
       "4               1.0         0                       5       1   \n",
       "...             ...       ...                     ...     ...   \n",
       "4883            2.0         1                       1       1   \n",
       "4884            3.0         1                       3       1   \n",
       "4885            7.0         0                       1       1   \n",
       "4886            3.0         0                       5       0   \n",
       "4887            3.0         1                       3       1   \n",
       "\n",
       "      NumberOfChildrenVisiting  MonthlyIncome  \n",
       "0                          0.0        20993.0  \n",
       "1                          2.0        20130.0  \n",
       "2                          0.0        17090.0  \n",
       "3                          1.0        17909.0  \n",
       "4                          0.0        18468.0  \n",
       "...                        ...            ...  \n",
       "4883                       1.0        26576.0  \n",
       "4884                       2.0        21212.0  \n",
       "4885                       3.0        31820.0  \n",
       "4886                       2.0        20289.0  \n",
       "4887                       2.0        24041.0  \n",
       "\n",
       "[4888 rows x 14 columns]"
      ]
     },
     "execution_count": 60,
     "metadata": {},
     "output_type": "execute_result"
    }
   ],
   "source": [
    "X=tail_imputer.transform(X)\n",
    "X"
   ]
  },
  {
   "cell_type": "raw",
   "id": "7bfec6d1",
   "metadata": {},
   "source": [
    "Method 7: Multivariate Imputation by Chained Equations\n",
    "    \n",
    "Multivariate Imputation by Chained Equations is a multiple Imputation Technique that models\n",
    "each variable with missing values as a function of the remaining variables and uses that estimate\n",
    "for Impputation\n",
    "\n",
    "A more sophisticated approach is to use the IterativeImputer class, which models each feature with\n",
    "missing values as a function of other features, and uses that estimate for imputation. It does so in\n",
    "an iterated round-robin fashion: at each step, a feature column is designated as output y and the\n",
    "other feature columns are treated as inputs X. A regressor is fit on (X, y) for known y. Then, the\n",
    "regressor is used to predict the missing values of y. This is done for each feature in an iterative\n",
    "fashion, and then is repeated for max_iter imputation rounds. The results of the final imputation\n",
    "round are returned."
   ]
  },
  {
   "cell_type": "code",
   "execution_count": 62,
   "id": "19d5de06",
   "metadata": {},
   "outputs": [],
   "source": [
    "import numpy as np\n",
    "from sklearn.experimental import enable_iterative_imputer\n",
    "from sklearn.impute import IterativeImputer"
   ]
  },
  {
   "cell_type": "code",
   "execution_count": 63,
   "id": "11bcc6e8",
   "metadata": {},
   "outputs": [
    {
     "data": {
      "text/html": [
       "<div>\n",
       "<style scoped>\n",
       "    .dataframe tbody tr th:only-of-type {\n",
       "        vertical-align: middle;\n",
       "    }\n",
       "\n",
       "    .dataframe tbody tr th {\n",
       "        vertical-align: top;\n",
       "    }\n",
       "\n",
       "    .dataframe thead th {\n",
       "        text-align: right;\n",
       "    }\n",
       "</style>\n",
       "<table border=\"1\" class=\"dataframe\">\n",
       "  <thead>\n",
       "    <tr style=\"text-align: right;\">\n",
       "      <th></th>\n",
       "      <th>CustomerID</th>\n",
       "      <th>ProdTaken</th>\n",
       "      <th>Age</th>\n",
       "      <th>CityTier</th>\n",
       "      <th>DurationOfPitch</th>\n",
       "      <th>NumberOfPersonVisiting</th>\n",
       "      <th>NumberOfFollowups</th>\n",
       "      <th>PreferredPropertyStar</th>\n",
       "      <th>NumberOfTrips</th>\n",
       "      <th>Passport</th>\n",
       "      <th>PitchSatisfactionScore</th>\n",
       "      <th>OwnCar</th>\n",
       "      <th>NumberOfChildrenVisiting</th>\n",
       "      <th>MonthlyIncome</th>\n",
       "    </tr>\n",
       "  </thead>\n",
       "  <tbody>\n",
       "    <tr>\n",
       "      <th>0</th>\n",
       "      <td>200000</td>\n",
       "      <td>1</td>\n",
       "      <td>41.0</td>\n",
       "      <td>3</td>\n",
       "      <td>6.0</td>\n",
       "      <td>3</td>\n",
       "      <td>3.0</td>\n",
       "      <td>3.0</td>\n",
       "      <td>1.0</td>\n",
       "      <td>1</td>\n",
       "      <td>2</td>\n",
       "      <td>1</td>\n",
       "      <td>0.0</td>\n",
       "      <td>20993.0</td>\n",
       "    </tr>\n",
       "    <tr>\n",
       "      <th>1</th>\n",
       "      <td>200001</td>\n",
       "      <td>0</td>\n",
       "      <td>49.0</td>\n",
       "      <td>1</td>\n",
       "      <td>14.0</td>\n",
       "      <td>3</td>\n",
       "      <td>4.0</td>\n",
       "      <td>4.0</td>\n",
       "      <td>2.0</td>\n",
       "      <td>0</td>\n",
       "      <td>3</td>\n",
       "      <td>1</td>\n",
       "      <td>2.0</td>\n",
       "      <td>20130.0</td>\n",
       "    </tr>\n",
       "    <tr>\n",
       "      <th>2</th>\n",
       "      <td>200002</td>\n",
       "      <td>1</td>\n",
       "      <td>37.0</td>\n",
       "      <td>1</td>\n",
       "      <td>8.0</td>\n",
       "      <td>3</td>\n",
       "      <td>4.0</td>\n",
       "      <td>3.0</td>\n",
       "      <td>7.0</td>\n",
       "      <td>1</td>\n",
       "      <td>3</td>\n",
       "      <td>0</td>\n",
       "      <td>0.0</td>\n",
       "      <td>17090.0</td>\n",
       "    </tr>\n",
       "    <tr>\n",
       "      <th>3</th>\n",
       "      <td>200003</td>\n",
       "      <td>0</td>\n",
       "      <td>33.0</td>\n",
       "      <td>1</td>\n",
       "      <td>9.0</td>\n",
       "      <td>2</td>\n",
       "      <td>3.0</td>\n",
       "      <td>3.0</td>\n",
       "      <td>2.0</td>\n",
       "      <td>1</td>\n",
       "      <td>5</td>\n",
       "      <td>1</td>\n",
       "      <td>1.0</td>\n",
       "      <td>17909.0</td>\n",
       "    </tr>\n",
       "    <tr>\n",
       "      <th>4</th>\n",
       "      <td>200004</td>\n",
       "      <td>0</td>\n",
       "      <td>NaN</td>\n",
       "      <td>1</td>\n",
       "      <td>8.0</td>\n",
       "      <td>2</td>\n",
       "      <td>3.0</td>\n",
       "      <td>4.0</td>\n",
       "      <td>1.0</td>\n",
       "      <td>0</td>\n",
       "      <td>5</td>\n",
       "      <td>1</td>\n",
       "      <td>0.0</td>\n",
       "      <td>18468.0</td>\n",
       "    </tr>\n",
       "    <tr>\n",
       "      <th>...</th>\n",
       "      <td>...</td>\n",
       "      <td>...</td>\n",
       "      <td>...</td>\n",
       "      <td>...</td>\n",
       "      <td>...</td>\n",
       "      <td>...</td>\n",
       "      <td>...</td>\n",
       "      <td>...</td>\n",
       "      <td>...</td>\n",
       "      <td>...</td>\n",
       "      <td>...</td>\n",
       "      <td>...</td>\n",
       "      <td>...</td>\n",
       "      <td>...</td>\n",
       "    </tr>\n",
       "    <tr>\n",
       "      <th>4883</th>\n",
       "      <td>204883</td>\n",
       "      <td>1</td>\n",
       "      <td>49.0</td>\n",
       "      <td>3</td>\n",
       "      <td>9.0</td>\n",
       "      <td>3</td>\n",
       "      <td>5.0</td>\n",
       "      <td>4.0</td>\n",
       "      <td>2.0</td>\n",
       "      <td>1</td>\n",
       "      <td>1</td>\n",
       "      <td>1</td>\n",
       "      <td>1.0</td>\n",
       "      <td>26576.0</td>\n",
       "    </tr>\n",
       "    <tr>\n",
       "      <th>4884</th>\n",
       "      <td>204884</td>\n",
       "      <td>1</td>\n",
       "      <td>28.0</td>\n",
       "      <td>1</td>\n",
       "      <td>31.0</td>\n",
       "      <td>4</td>\n",
       "      <td>5.0</td>\n",
       "      <td>3.0</td>\n",
       "      <td>3.0</td>\n",
       "      <td>1</td>\n",
       "      <td>3</td>\n",
       "      <td>1</td>\n",
       "      <td>2.0</td>\n",
       "      <td>21212.0</td>\n",
       "    </tr>\n",
       "    <tr>\n",
       "      <th>4885</th>\n",
       "      <td>204885</td>\n",
       "      <td>1</td>\n",
       "      <td>52.0</td>\n",
       "      <td>3</td>\n",
       "      <td>17.0</td>\n",
       "      <td>4</td>\n",
       "      <td>4.0</td>\n",
       "      <td>4.0</td>\n",
       "      <td>7.0</td>\n",
       "      <td>0</td>\n",
       "      <td>1</td>\n",
       "      <td>1</td>\n",
       "      <td>3.0</td>\n",
       "      <td>31820.0</td>\n",
       "    </tr>\n",
       "    <tr>\n",
       "      <th>4886</th>\n",
       "      <td>204886</td>\n",
       "      <td>1</td>\n",
       "      <td>19.0</td>\n",
       "      <td>3</td>\n",
       "      <td>16.0</td>\n",
       "      <td>3</td>\n",
       "      <td>4.0</td>\n",
       "      <td>3.0</td>\n",
       "      <td>3.0</td>\n",
       "      <td>0</td>\n",
       "      <td>5</td>\n",
       "      <td>0</td>\n",
       "      <td>2.0</td>\n",
       "      <td>20289.0</td>\n",
       "    </tr>\n",
       "    <tr>\n",
       "      <th>4887</th>\n",
       "      <td>204887</td>\n",
       "      <td>1</td>\n",
       "      <td>36.0</td>\n",
       "      <td>1</td>\n",
       "      <td>14.0</td>\n",
       "      <td>4</td>\n",
       "      <td>4.0</td>\n",
       "      <td>4.0</td>\n",
       "      <td>3.0</td>\n",
       "      <td>1</td>\n",
       "      <td>3</td>\n",
       "      <td>1</td>\n",
       "      <td>2.0</td>\n",
       "      <td>24041.0</td>\n",
       "    </tr>\n",
       "  </tbody>\n",
       "</table>\n",
       "<p>4888 rows × 14 columns</p>\n",
       "</div>"
      ],
      "text/plain": [
       "      CustomerID  ProdTaken   Age  CityTier  DurationOfPitch  \\\n",
       "0         200000          1  41.0         3              6.0   \n",
       "1         200001          0  49.0         1             14.0   \n",
       "2         200002          1  37.0         1              8.0   \n",
       "3         200003          0  33.0         1              9.0   \n",
       "4         200004          0   NaN         1              8.0   \n",
       "...          ...        ...   ...       ...              ...   \n",
       "4883      204883          1  49.0         3              9.0   \n",
       "4884      204884          1  28.0         1             31.0   \n",
       "4885      204885          1  52.0         3             17.0   \n",
       "4886      204886          1  19.0         3             16.0   \n",
       "4887      204887          1  36.0         1             14.0   \n",
       "\n",
       "      NumberOfPersonVisiting  NumberOfFollowups  PreferredPropertyStar  \\\n",
       "0                          3                3.0                    3.0   \n",
       "1                          3                4.0                    4.0   \n",
       "2                          3                4.0                    3.0   \n",
       "3                          2                3.0                    3.0   \n",
       "4                          2                3.0                    4.0   \n",
       "...                      ...                ...                    ...   \n",
       "4883                       3                5.0                    4.0   \n",
       "4884                       4                5.0                    3.0   \n",
       "4885                       4                4.0                    4.0   \n",
       "4886                       3                4.0                    3.0   \n",
       "4887                       4                4.0                    4.0   \n",
       "\n",
       "      NumberOfTrips  Passport  PitchSatisfactionScore  OwnCar  \\\n",
       "0               1.0         1                       2       1   \n",
       "1               2.0         0                       3       1   \n",
       "2               7.0         1                       3       0   \n",
       "3               2.0         1                       5       1   \n",
       "4               1.0         0                       5       1   \n",
       "...             ...       ...                     ...     ...   \n",
       "4883            2.0         1                       1       1   \n",
       "4884            3.0         1                       3       1   \n",
       "4885            7.0         0                       1       1   \n",
       "4886            3.0         0                       5       0   \n",
       "4887            3.0         1                       3       1   \n",
       "\n",
       "      NumberOfChildrenVisiting  MonthlyIncome  \n",
       "0                          0.0        20993.0  \n",
       "1                          2.0        20130.0  \n",
       "2                          0.0        17090.0  \n",
       "3                          1.0        17909.0  \n",
       "4                          0.0        18468.0  \n",
       "...                        ...            ...  \n",
       "4883                       1.0        26576.0  \n",
       "4884                       2.0        21212.0  \n",
       "4885                       3.0        31820.0  \n",
       "4886                       2.0        20289.0  \n",
       "4887                       2.0        24041.0  \n",
       "\n",
       "[4888 rows x 14 columns]"
      ]
     },
     "execution_count": 63,
     "metadata": {},
     "output_type": "execute_result"
    }
   ],
   "source": [
    "X=data[num_col]\n",
    "X"
   ]
  },
  {
   "cell_type": "code",
   "execution_count": 64,
   "id": "1ba43986",
   "metadata": {},
   "outputs": [
    {
     "data": {
      "text/plain": [
       "CustomerID                    0\n",
       "ProdTaken                     0\n",
       "Age                         226\n",
       "CityTier                      0\n",
       "DurationOfPitch             251\n",
       "NumberOfPersonVisiting        0\n",
       "NumberOfFollowups            45\n",
       "PreferredPropertyStar        26\n",
       "NumberOfTrips               140\n",
       "Passport                      0\n",
       "PitchSatisfactionScore        0\n",
       "OwnCar                        0\n",
       "NumberOfChildrenVisiting     66\n",
       "MonthlyIncome               233\n",
       "dtype: int64"
      ]
     },
     "execution_count": 64,
     "metadata": {},
     "output_type": "execute_result"
    }
   ],
   "source": [
    "X.isnull().sum()\n"
   ]
  },
  {
   "cell_type": "code",
   "execution_count": 65,
   "id": "56f32cb3",
   "metadata": {},
   "outputs": [],
   "source": [
    "imp = IterativeImputer(max_iter=10,random_state=0)\n"
   ]
  },
  {
   "cell_type": "code",
   "execution_count": 66,
   "id": "5c4f2665",
   "metadata": {},
   "outputs": [
    {
     "data": {
      "text/plain": [
       "IterativeImputer(random_state=0)"
      ]
     },
     "execution_count": 66,
     "metadata": {},
     "output_type": "execute_result"
    }
   ],
   "source": [
    "imp.fit(X)"
   ]
  },
  {
   "cell_type": "code",
   "execution_count": 67,
   "id": "8aab553a",
   "metadata": {},
   "outputs": [
    {
     "data": {
      "text/plain": [
       "array([[2.00000e+05, 1.00000e+00, 4.10000e+01, ..., 1.00000e+00,\n",
       "        0.00000e+00, 2.09930e+04],\n",
       "       [2.00001e+05, 0.00000e+00, 4.90000e+01, ..., 1.00000e+00,\n",
       "        2.00000e+00, 2.01300e+04],\n",
       "       [2.00002e+05, 1.00000e+00, 3.70000e+01, ..., 0.00000e+00,\n",
       "        0.00000e+00, 1.70900e+04],\n",
       "       ...,\n",
       "       [2.04885e+05, 1.00000e+00, 5.20000e+01, ..., 1.00000e+00,\n",
       "        3.00000e+00, 3.18200e+04],\n",
       "       [2.04886e+05, 1.00000e+00, 1.90000e+01, ..., 0.00000e+00,\n",
       "        2.00000e+00, 2.02890e+04],\n",
       "       [2.04887e+05, 1.00000e+00, 3.60000e+01, ..., 1.00000e+00,\n",
       "        2.00000e+00, 2.40410e+04]])"
      ]
     },
     "execution_count": 67,
     "metadata": {},
     "output_type": "execute_result"
    }
   ],
   "source": [
    "X=imp.transform(X)\n",
    "X"
   ]
  },
  {
   "cell_type": "code",
   "execution_count": 68,
   "id": "9a975839",
   "metadata": {},
   "outputs": [
    {
     "data": {
      "text/plain": [
       "0     0\n",
       "1     0\n",
       "2     0\n",
       "3     0\n",
       "4     0\n",
       "5     0\n",
       "6     0\n",
       "7     0\n",
       "8     0\n",
       "9     0\n",
       "10    0\n",
       "11    0\n",
       "12    0\n",
       "13    0\n",
       "dtype: int64"
      ]
     },
     "execution_count": 68,
     "metadata": {},
     "output_type": "execute_result"
    }
   ],
   "source": [
    "# Converting back to a DataFrame\n",
    "result_1=pd.DataFrame(X)\n",
    "result_1.isnull().sum()"
   ]
  },
  {
   "cell_type": "code",
   "execution_count": null,
   "id": "f6cc6ccc",
   "metadata": {},
   "outputs": [],
   "source": []
  }
 ],
 "metadata": {
  "kernelspec": {
   "display_name": "Python 3 (ipykernel)",
   "language": "python",
   "name": "python3"
  },
  "language_info": {
   "codemirror_mode": {
    "name": "ipython",
    "version": 3
   },
   "file_extension": ".py",
   "mimetype": "text/x-python",
   "name": "python",
   "nbconvert_exporter": "python",
   "pygments_lexer": "ipython3",
   "version": "3.9.12"
  }
 },
 "nbformat": 4,
 "nbformat_minor": 5
}
