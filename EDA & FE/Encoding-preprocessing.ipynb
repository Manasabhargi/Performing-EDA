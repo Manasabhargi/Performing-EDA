{
 "cells": [
  {
   "cell_type": "markdown",
   "id": "c693adbc",
   "metadata": {},
   "source": [
    "### Encoding(categorical variables)"
   ]
  },
  {
   "cell_type": "code",
   "execution_count": 1,
   "id": "a936dd27",
   "metadata": {},
   "outputs": [],
   "source": [
    "import pandas as pd\n",
    "import numpy as np\n",
    "import matplotlib.pyplot as plt\n",
    "import seaborn as sns\n",
    "%matplotlib inline\n",
    "import warnings\n",
    "warnings.filterwarnings('ignore')"
   ]
  },
  {
   "cell_type": "code",
   "execution_count": 2,
   "id": "8b66c800",
   "metadata": {},
   "outputs": [],
   "source": [
    "data=pd.read_csv('Travel.csv')\n"
   ]
  },
  {
   "cell_type": "code",
   "execution_count": 3,
   "id": "8eb4aa4d",
   "metadata": {},
   "outputs": [
    {
     "data": {
      "text/plain": [
       "['TypeofContact',\n",
       " 'Occupation',\n",
       " 'Gender',\n",
       " 'ProductPitched',\n",
       " 'MaritalStatus',\n",
       " 'Designation']"
      ]
     },
     "execution_count": 3,
     "metadata": {},
     "output_type": "execute_result"
    }
   ],
   "source": [
    "cat_col=[fea for fea in data.columns if data[fea].dtype =='O'] \n",
    "cat_col\n"
   ]
  },
  {
   "cell_type": "code",
   "execution_count": 4,
   "id": "5666b856",
   "metadata": {},
   "outputs": [
    {
     "data": {
      "text/html": [
       "<div>\n",
       "<style scoped>\n",
       "    .dataframe tbody tr th:only-of-type {\n",
       "        vertical-align: middle;\n",
       "    }\n",
       "\n",
       "    .dataframe tbody tr th {\n",
       "        vertical-align: top;\n",
       "    }\n",
       "\n",
       "    .dataframe thead th {\n",
       "        text-align: right;\n",
       "    }\n",
       "</style>\n",
       "<table border=\"1\" class=\"dataframe\">\n",
       "  <thead>\n",
       "    <tr style=\"text-align: right;\">\n",
       "      <th></th>\n",
       "      <th>TypeofContact</th>\n",
       "      <th>Occupation</th>\n",
       "      <th>Gender</th>\n",
       "      <th>ProductPitched</th>\n",
       "      <th>MaritalStatus</th>\n",
       "      <th>Designation</th>\n",
       "    </tr>\n",
       "  </thead>\n",
       "  <tbody>\n",
       "    <tr>\n",
       "      <th>0</th>\n",
       "      <td>Self Enquiry</td>\n",
       "      <td>Salaried</td>\n",
       "      <td>Female</td>\n",
       "      <td>Deluxe</td>\n",
       "      <td>Single</td>\n",
       "      <td>Manager</td>\n",
       "    </tr>\n",
       "    <tr>\n",
       "      <th>1</th>\n",
       "      <td>Company Invited</td>\n",
       "      <td>Salaried</td>\n",
       "      <td>Male</td>\n",
       "      <td>Deluxe</td>\n",
       "      <td>Divorced</td>\n",
       "      <td>Manager</td>\n",
       "    </tr>\n",
       "    <tr>\n",
       "      <th>2</th>\n",
       "      <td>Self Enquiry</td>\n",
       "      <td>Free Lancer</td>\n",
       "      <td>Male</td>\n",
       "      <td>Basic</td>\n",
       "      <td>Single</td>\n",
       "      <td>Executive</td>\n",
       "    </tr>\n",
       "    <tr>\n",
       "      <th>3</th>\n",
       "      <td>Company Invited</td>\n",
       "      <td>Salaried</td>\n",
       "      <td>Female</td>\n",
       "      <td>Basic</td>\n",
       "      <td>Divorced</td>\n",
       "      <td>Executive</td>\n",
       "    </tr>\n",
       "    <tr>\n",
       "      <th>4</th>\n",
       "      <td>Self Enquiry</td>\n",
       "      <td>Small Business</td>\n",
       "      <td>Male</td>\n",
       "      <td>Basic</td>\n",
       "      <td>Divorced</td>\n",
       "      <td>Executive</td>\n",
       "    </tr>\n",
       "    <tr>\n",
       "      <th>...</th>\n",
       "      <td>...</td>\n",
       "      <td>...</td>\n",
       "      <td>...</td>\n",
       "      <td>...</td>\n",
       "      <td>...</td>\n",
       "      <td>...</td>\n",
       "    </tr>\n",
       "    <tr>\n",
       "      <th>4883</th>\n",
       "      <td>Self Enquiry</td>\n",
       "      <td>Small Business</td>\n",
       "      <td>Male</td>\n",
       "      <td>Deluxe</td>\n",
       "      <td>Unmarried</td>\n",
       "      <td>Manager</td>\n",
       "    </tr>\n",
       "    <tr>\n",
       "      <th>4884</th>\n",
       "      <td>Company Invited</td>\n",
       "      <td>Salaried</td>\n",
       "      <td>Male</td>\n",
       "      <td>Basic</td>\n",
       "      <td>Single</td>\n",
       "      <td>Executive</td>\n",
       "    </tr>\n",
       "    <tr>\n",
       "      <th>4885</th>\n",
       "      <td>Self Enquiry</td>\n",
       "      <td>Salaried</td>\n",
       "      <td>Female</td>\n",
       "      <td>Standard</td>\n",
       "      <td>Married</td>\n",
       "      <td>Senior Manager</td>\n",
       "    </tr>\n",
       "    <tr>\n",
       "      <th>4886</th>\n",
       "      <td>Self Enquiry</td>\n",
       "      <td>Small Business</td>\n",
       "      <td>Male</td>\n",
       "      <td>Basic</td>\n",
       "      <td>Single</td>\n",
       "      <td>Executive</td>\n",
       "    </tr>\n",
       "    <tr>\n",
       "      <th>4887</th>\n",
       "      <td>Self Enquiry</td>\n",
       "      <td>Salaried</td>\n",
       "      <td>Male</td>\n",
       "      <td>Basic</td>\n",
       "      <td>Unmarried</td>\n",
       "      <td>Executive</td>\n",
       "    </tr>\n",
       "  </tbody>\n",
       "</table>\n",
       "<p>4888 rows × 6 columns</p>\n",
       "</div>"
      ],
      "text/plain": [
       "        TypeofContact      Occupation  Gender ProductPitched MaritalStatus  \\\n",
       "0        Self Enquiry        Salaried  Female         Deluxe        Single   \n",
       "1     Company Invited        Salaried    Male         Deluxe      Divorced   \n",
       "2        Self Enquiry     Free Lancer    Male          Basic        Single   \n",
       "3     Company Invited        Salaried  Female          Basic      Divorced   \n",
       "4        Self Enquiry  Small Business    Male          Basic      Divorced   \n",
       "...               ...             ...     ...            ...           ...   \n",
       "4883     Self Enquiry  Small Business    Male         Deluxe     Unmarried   \n",
       "4884  Company Invited        Salaried    Male          Basic        Single   \n",
       "4885     Self Enquiry        Salaried  Female       Standard       Married   \n",
       "4886     Self Enquiry  Small Business    Male          Basic        Single   \n",
       "4887     Self Enquiry        Salaried    Male          Basic     Unmarried   \n",
       "\n",
       "         Designation  \n",
       "0            Manager  \n",
       "1            Manager  \n",
       "2          Executive  \n",
       "3          Executive  \n",
       "4          Executive  \n",
       "...              ...  \n",
       "4883         Manager  \n",
       "4884       Executive  \n",
       "4885  Senior Manager  \n",
       "4886       Executive  \n",
       "4887       Executive  \n",
       "\n",
       "[4888 rows x 6 columns]"
      ]
     },
     "execution_count": 4,
     "metadata": {},
     "output_type": "execute_result"
    }
   ],
   "source": [
    "X=data[cat_col]\n",
    "X\n"
   ]
  },
  {
   "cell_type": "code",
   "execution_count": 5,
   "id": "a7cc0409",
   "metadata": {},
   "outputs": [
    {
     "data": {
      "text/plain": [
       "TypeofContact     25\n",
       "Occupation         0\n",
       "Gender             0\n",
       "ProductPitched     0\n",
       "MaritalStatus      0\n",
       "Designation        0\n",
       "dtype: int64"
      ]
     },
     "execution_count": 5,
     "metadata": {},
     "output_type": "execute_result"
    }
   ],
   "source": [
    "X.isnull().sum()"
   ]
  },
  {
   "cell_type": "code",
   "execution_count": 6,
   "id": "3bf9cc9c",
   "metadata": {},
   "outputs": [],
   "source": [
    "# Replacing Null values in \"TypeofContact\" feature by Mode\n",
    "X=X.fillna(X.mode().iloc[0])\n"
   ]
  },
  {
   "cell_type": "code",
   "execution_count": 7,
   "id": "a4760a9e",
   "metadata": {},
   "outputs": [
    {
     "data": {
      "text/plain": [
       "TypeofContact     0\n",
       "Occupation        0\n",
       "Gender            0\n",
       "ProductPitched    0\n",
       "MaritalStatus     0\n",
       "Designation       0\n",
       "dtype: int64"
      ]
     },
     "execution_count": 7,
     "metadata": {},
     "output_type": "execute_result"
    }
   ],
   "source": [
    "X.isnull().sum()\n"
   ]
  },
  {
   "cell_type": "markdown",
   "id": "31176c6b",
   "metadata": {},
   "source": [
    "#### Method 1: Creating Binary variables through One Hot Encoding"
   ]
  },
  {
   "cell_type": "code",
   "execution_count": 8,
   "id": "bb492462",
   "metadata": {},
   "outputs": [],
   "source": [
    "# Using Pandas\n",
    "X_encoded=pd.get_dummies(X,drop_first=True)\n",
    "# drop_first =True implies that␣dropping the first binary variable"
   ]
  },
  {
   "cell_type": "code",
   "execution_count": 9,
   "id": "ca8439d4",
   "metadata": {},
   "outputs": [],
   "source": [
    "# Using Sklearn\n",
    "from sklearn.preprocessing import OneHotEncoder\n",
    "encoder=OneHotEncoder(categories='auto',drop='first',sparse=False)"
   ]
  },
  {
   "cell_type": "code",
   "execution_count": 10,
   "id": "b522e662",
   "metadata": {},
   "outputs": [
    {
     "data": {
      "text/plain": [
       "OneHotEncoder(drop='first', sparse=False)"
      ]
     },
     "execution_count": 10,
     "metadata": {},
     "output_type": "execute_result"
    }
   ],
   "source": [
    "X_encoded=encoder.fit(X)\n",
    "X_encoded\n"
   ]
  },
  {
   "cell_type": "code",
   "execution_count": 11,
   "id": "672042bb",
   "metadata": {},
   "outputs": [
    {
     "data": {
      "text/plain": [
       "array([[1., 0., 1., ..., 1., 0., 0.],\n",
       "       [0., 0., 1., ..., 1., 0., 0.],\n",
       "       [1., 0., 0., ..., 0., 0., 0.],\n",
       "       ...,\n",
       "       [1., 0., 1., ..., 0., 1., 0.],\n",
       "       [1., 0., 0., ..., 0., 0., 0.],\n",
       "       [1., 0., 1., ..., 0., 0., 0.]])"
      ]
     },
     "execution_count": 11,
     "metadata": {},
     "output_type": "execute_result"
    }
   ],
   "source": [
    "X_transformed=encoder.transform(X)\n",
    "X_transformed\n"
   ]
  },
  {
   "cell_type": "markdown",
   "id": "e5b2c6e3",
   "metadata": {},
   "source": [
    "#### Method 2: Repalcing Categories with Ordinal Numbers"
   ]
  },
  {
   "cell_type": "code",
   "execution_count": 12,
   "id": "c8bbdbc0",
   "metadata": {},
   "outputs": [
    {
     "data": {
      "text/plain": [
       "array([[1., 2., 1., 1., 2., 2.],\n",
       "       [0., 2., 2., 1., 0., 2.],\n",
       "       [1., 0., 2., 0., 2., 1.],\n",
       "       ...,\n",
       "       [1., 2., 1., 3., 1., 3.],\n",
       "       [1., 3., 2., 0., 2., 1.],\n",
       "       [1., 2., 2., 0., 3., 1.]])"
      ]
     },
     "execution_count": 12,
     "metadata": {},
     "output_type": "execute_result"
    }
   ],
   "source": [
    " # Using sklearn\n",
    "from sklearn.preprocessing import OrdinalEncoder\n",
    "enc = OrdinalEncoder()\n",
    "enc.fit(X)\n",
    "X_trans=enc.transform(X)\n",
    "X_trans"
   ]
  },
  {
   "cell_type": "markdown",
   "id": "f2159dd5",
   "metadata": {},
   "source": [
    "#### Method 3: Label Encoding"
   ]
  },
  {
   "cell_type": "code",
   "execution_count": 13,
   "id": "5449eeac",
   "metadata": {},
   "outputs": [
    {
     "data": {
      "text/plain": [
       "LabelEncoder()"
      ]
     },
     "execution_count": 13,
     "metadata": {},
     "output_type": "execute_result"
    }
   ],
   "source": [
    "from sklearn.preprocessing import LabelEncoder\n",
    "le = LabelEncoder()\n",
    "le.fit(X['TypeofContact'])\n"
   ]
  },
  {
   "cell_type": "code",
   "execution_count": 14,
   "id": "c0c755f0",
   "metadata": {},
   "outputs": [
    {
     "data": {
      "text/plain": [
       "['Company Invited', 'Self Enquiry']"
      ]
     },
     "execution_count": 14,
     "metadata": {},
     "output_type": "execute_result"
    }
   ],
   "source": [
    "list(le.classes_)\n"
   ]
  },
  {
   "cell_type": "code",
   "execution_count": 15,
   "id": "ff74cc19",
   "metadata": {},
   "outputs": [
    {
     "data": {
      "text/plain": [
       "array([1, 0, 1, ..., 1, 1, 1])"
      ]
     },
     "execution_count": 15,
     "metadata": {},
     "output_type": "execute_result"
    }
   ],
   "source": [
    "le.transform(X['TypeofContact'])\n"
   ]
  },
  {
   "cell_type": "code",
   "execution_count": null,
   "id": "0b7e1056",
   "metadata": {},
   "outputs": [],
   "source": []
  }
 ],
 "metadata": {
  "kernelspec": {
   "display_name": "Python 3 (ipykernel)",
   "language": "python",
   "name": "python3"
  },
  "language_info": {
   "codemirror_mode": {
    "name": "ipython",
    "version": 3
   },
   "file_extension": ".py",
   "mimetype": "text/x-python",
   "name": "python",
   "nbconvert_exporter": "python",
   "pygments_lexer": "ipython3",
   "version": "3.9.12"
  }
 },
 "nbformat": 4,
 "nbformat_minor": 5
}
