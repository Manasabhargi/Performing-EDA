{
 "cells": [
  {
   "cell_type": "markdown",
   "id": "7c29a624",
   "metadata": {},
   "source": [
    "![image info](https://ineuron.ai/images/ineuron-logo.png)"
   ]
  },
  {
   "cell_type": "markdown",
   "id": "a1c8ebbd",
   "metadata": {},
   "source": [
    "# Forest Fire Predictor\n",
    "**Life cycle of Machine learning Project**\n",
    "\n",
    "* Understanding the Problem Statement\n",
    "* Data Collection\n",
    "* Exploratory data analysis\n",
    "* Data Cleaning\n",
    "* Data Pre-Processing\n",
    "* Model Training \n",
    "* Choose best model"
   ]
  },
  {
   "cell_type": "markdown",
   "id": "465863a0",
   "metadata": {},
   "source": [
    "## 1) Problem statement.\n",
    "\n",
    "* We need to develop a model that takes into account the detected fires dataset and detects future fires using specific weather reports.\n",
    "* using Sklearn for pre-processing\n",
    "* Pandas, Numpy, Matplotlib for csv reading, Data Processing, Data Cleaning and Visualization"
   ]
  },
  {
   "cell_type": "markdown",
   "id": "32d64a36",
   "metadata": {},
   "source": [
    "## 2) Data Collection.\n",
    "* The dataset I used comes from UCI on Algerian Forest Fires. \n",
    "* Forest fire observations and data from two regions of Algeria are included in this dataset: Bejaia and Sidi Bel-Abbes.\n",
    "* This dataset spans the period from June 2012 to September 2012. \n",
    "* Our project examined the possibility of using Machine Learning algorithms to predict forest fires in these regions based on certain weather features."
   ]
  },
  {
   "cell_type": "markdown",
   "id": "9cd6b113",
   "metadata": {},
   "source": [
    "### 2.1 Import Data and Required Packages\n",
    "* Installing Python, PyCharm, Monogodb, Git to Computer.\n",
    "* Download the source dataset from UCI Repository.\n",
    "* For Classification algorithm decided to predict the features Classes from the dataset which is Binary classification (fire, not fire).\n",
    "* For Regression Problem algorithm decided to predict the feature FWI (Fire weather Index) which is 90%+ correlated to Classes Feature."
   ]
  },
  {
   "cell_type": "code",
   "execution_count": 56,
   "id": "004179ca",
   "metadata": {},
   "outputs": [],
   "source": [
    "import pandas as pd\n",
    "import numpy as np\n",
    "import matplotlib.pyplot as plt\n",
    "import seaborn as sns\n",
    "import plotly.express as px\n",
    "import warnings\n",
    "from six.moves import urllib\n",
    "\n",
    "warnings.filterwarnings(\"ignore\")\n",
    "\n",
    "%matplotlib inline"
   ]
  },
  {
   "cell_type": "markdown",
   "id": "89a459fc",
   "metadata": {},
   "source": [
    "**2.2 Download and Import the CSV Data as Pandas DataFrame**"
   ]
  },
  {
   "cell_type": "code",
   "execution_count": 114,
   "id": "9686e303",
   "metadata": {},
   "outputs": [],
   "source": [
    "df = pd.read_csv('Algerian_forest_fires_dataset_UPDATE.csv',header=1)"
   ]
  },
  {
   "cell_type": "code",
   "execution_count": 115,
   "id": "2b7dfaba",
   "metadata": {},
   "outputs": [],
   "source": [
    "#dropping non required rows from the dataset - cleaning the data\n",
    "df1 = df.drop(labels=[122,123,167], axis=0)"
   ]
  },
  {
   "cell_type": "code",
   "execution_count": 123,
   "id": "36820602",
   "metadata": {},
   "outputs": [],
   "source": [
    "#dictionary for assigning values to index ranges\n",
    "regions = {\n",
    "    0 : \"1\",\n",
    "    128 : \"0\",\n",
    "}"
   ]
  },
  {
   "cell_type": "code",
   "execution_count": 128,
   "id": "4e102d84",
   "metadata": {},
   "outputs": [],
   "source": [
    "#create series with index.map by forward filling missing values\n",
    "df1['Region'] = pd.Series(df1.index.map(regions), index = df1.index).ffill()"
   ]
  },
  {
   "cell_type": "code",
   "execution_count": 125,
   "id": "e212c543",
   "metadata": {},
   "outputs": [
    {
     "data": {
      "text/html": [
       "<div>\n",
       "<style scoped>\n",
       "    .dataframe tbody tr th:only-of-type {\n",
       "        vertical-align: middle;\n",
       "    }\n",
       "\n",
       "    .dataframe tbody tr th {\n",
       "        vertical-align: top;\n",
       "    }\n",
       "\n",
       "    .dataframe thead th {\n",
       "        text-align: right;\n",
       "    }\n",
       "</style>\n",
       "<table border=\"1\" class=\"dataframe\">\n",
       "  <thead>\n",
       "    <tr style=\"text-align: right;\">\n",
       "      <th></th>\n",
       "      <th>day</th>\n",
       "      <th>month</th>\n",
       "      <th>year</th>\n",
       "      <th>Temperature</th>\n",
       "      <th>RH</th>\n",
       "      <th>Ws</th>\n",
       "      <th>Rain</th>\n",
       "      <th>FFMC</th>\n",
       "      <th>DMC</th>\n",
       "      <th>DC</th>\n",
       "      <th>ISI</th>\n",
       "      <th>BUI</th>\n",
       "      <th>FWI</th>\n",
       "      <th>Classes</th>\n",
       "    </tr>\n",
       "  </thead>\n",
       "  <tbody>\n",
       "    <tr>\n",
       "      <th>3</th>\n",
       "      <td>04</td>\n",
       "      <td>06</td>\n",
       "      <td>2012</td>\n",
       "      <td>25</td>\n",
       "      <td>89</td>\n",
       "      <td>13</td>\n",
       "      <td>2.5</td>\n",
       "      <td>28.6</td>\n",
       "      <td>1.3</td>\n",
       "      <td>6.9</td>\n",
       "      <td>0</td>\n",
       "      <td>1.7</td>\n",
       "      <td>0</td>\n",
       "      <td>not fire</td>\n",
       "    </tr>\n",
       "    <tr>\n",
       "      <th>4</th>\n",
       "      <td>05</td>\n",
       "      <td>06</td>\n",
       "      <td>2012</td>\n",
       "      <td>27</td>\n",
       "      <td>77</td>\n",
       "      <td>16</td>\n",
       "      <td>0</td>\n",
       "      <td>64.8</td>\n",
       "      <td>3</td>\n",
       "      <td>14.2</td>\n",
       "      <td>1.2</td>\n",
       "      <td>3.9</td>\n",
       "      <td>0.5</td>\n",
       "      <td>not fire</td>\n",
       "    </tr>\n",
       "    <tr>\n",
       "      <th>5</th>\n",
       "      <td>06</td>\n",
       "      <td>06</td>\n",
       "      <td>2012</td>\n",
       "      <td>31</td>\n",
       "      <td>67</td>\n",
       "      <td>14</td>\n",
       "      <td>0</td>\n",
       "      <td>82.6</td>\n",
       "      <td>5.8</td>\n",
       "      <td>22.2</td>\n",
       "      <td>3.1</td>\n",
       "      <td>7</td>\n",
       "      <td>2.5</td>\n",
       "      <td>fire</td>\n",
       "    </tr>\n",
       "    <tr>\n",
       "      <th>6</th>\n",
       "      <td>07</td>\n",
       "      <td>06</td>\n",
       "      <td>2012</td>\n",
       "      <td>33</td>\n",
       "      <td>54</td>\n",
       "      <td>13</td>\n",
       "      <td>0</td>\n",
       "      <td>88.2</td>\n",
       "      <td>9.9</td>\n",
       "      <td>30.5</td>\n",
       "      <td>6.4</td>\n",
       "      <td>10.9</td>\n",
       "      <td>7.2</td>\n",
       "      <td>fire</td>\n",
       "    </tr>\n",
       "    <tr>\n",
       "      <th>7</th>\n",
       "      <td>08</td>\n",
       "      <td>06</td>\n",
       "      <td>2012</td>\n",
       "      <td>30</td>\n",
       "      <td>73</td>\n",
       "      <td>15</td>\n",
       "      <td>0</td>\n",
       "      <td>86.6</td>\n",
       "      <td>12.1</td>\n",
       "      <td>38.3</td>\n",
       "      <td>5.6</td>\n",
       "      <td>13.5</td>\n",
       "      <td>7.1</td>\n",
       "      <td>fire</td>\n",
       "    </tr>\n",
       "    <tr>\n",
       "      <th>...</th>\n",
       "      <td>...</td>\n",
       "      <td>...</td>\n",
       "      <td>...</td>\n",
       "      <td>...</td>\n",
       "      <td>...</td>\n",
       "      <td>...</td>\n",
       "      <td>...</td>\n",
       "      <td>...</td>\n",
       "      <td>...</td>\n",
       "      <td>...</td>\n",
       "      <td>...</td>\n",
       "      <td>...</td>\n",
       "      <td>...</td>\n",
       "      <td>...</td>\n",
       "    </tr>\n",
       "    <tr>\n",
       "      <th>168</th>\n",
       "      <td>15</td>\n",
       "      <td>07</td>\n",
       "      <td>2012</td>\n",
       "      <td>34</td>\n",
       "      <td>45</td>\n",
       "      <td>17</td>\n",
       "      <td>0</td>\n",
       "      <td>90.5</td>\n",
       "      <td>18</td>\n",
       "      <td>24.1</td>\n",
       "      <td>10.9</td>\n",
       "      <td>17.7</td>\n",
       "      <td>14.1</td>\n",
       "      <td>fire</td>\n",
       "    </tr>\n",
       "    <tr>\n",
       "      <th>169</th>\n",
       "      <td>16</td>\n",
       "      <td>07</td>\n",
       "      <td>2012</td>\n",
       "      <td>31</td>\n",
       "      <td>83</td>\n",
       "      <td>17</td>\n",
       "      <td>0</td>\n",
       "      <td>84.5</td>\n",
       "      <td>19.4</td>\n",
       "      <td>33.1</td>\n",
       "      <td>4.7</td>\n",
       "      <td>19.2</td>\n",
       "      <td>7.3</td>\n",
       "      <td>fire</td>\n",
       "    </tr>\n",
       "    <tr>\n",
       "      <th>170</th>\n",
       "      <td>17</td>\n",
       "      <td>07</td>\n",
       "      <td>2012</td>\n",
       "      <td>32</td>\n",
       "      <td>81</td>\n",
       "      <td>17</td>\n",
       "      <td>0</td>\n",
       "      <td>84.6</td>\n",
       "      <td>21.1</td>\n",
       "      <td>42.3</td>\n",
       "      <td>4.7</td>\n",
       "      <td>20.9</td>\n",
       "      <td>7.7</td>\n",
       "      <td>fire</td>\n",
       "    </tr>\n",
       "    <tr>\n",
       "      <th>171</th>\n",
       "      <td>18</td>\n",
       "      <td>07</td>\n",
       "      <td>2012</td>\n",
       "      <td>33</td>\n",
       "      <td>68</td>\n",
       "      <td>15</td>\n",
       "      <td>0</td>\n",
       "      <td>86.1</td>\n",
       "      <td>23.9</td>\n",
       "      <td>51.6</td>\n",
       "      <td>5.2</td>\n",
       "      <td>23.9</td>\n",
       "      <td>9.1</td>\n",
       "      <td>fire</td>\n",
       "    </tr>\n",
       "    <tr>\n",
       "      <th>172</th>\n",
       "      <td>19</td>\n",
       "      <td>07</td>\n",
       "      <td>2012</td>\n",
       "      <td>34</td>\n",
       "      <td>58</td>\n",
       "      <td>16</td>\n",
       "      <td>0</td>\n",
       "      <td>88.1</td>\n",
       "      <td>27.8</td>\n",
       "      <td>61.1</td>\n",
       "      <td>7.3</td>\n",
       "      <td>27.7</td>\n",
       "      <td>13</td>\n",
       "      <td>fire</td>\n",
       "    </tr>\n",
       "  </tbody>\n",
       "</table>\n",
       "<p>167 rows × 14 columns</p>\n",
       "</div>"
      ],
      "text/plain": [
       "    day month  year Temperature  RH  Ws Rain   FFMC   DMC    DC   ISI   BUI  \\\n",
       "3    04    06  2012          25  89  13   2.5  28.6   1.3   6.9     0   1.7   \n",
       "4    05    06  2012          27  77  16     0  64.8     3  14.2   1.2   3.9   \n",
       "5    06    06  2012          31  67  14     0  82.6   5.8  22.2   3.1     7   \n",
       "6    07    06  2012          33  54  13     0  88.2   9.9  30.5   6.4  10.9   \n",
       "7    08    06  2012          30  73  15     0  86.6  12.1  38.3   5.6  13.5   \n",
       "..   ..   ...   ...         ...  ..  ..   ...   ...   ...   ...   ...   ...   \n",
       "168  15    07  2012          34  45  17     0  90.5    18  24.1  10.9  17.7   \n",
       "169  16    07  2012          31  83  17     0  84.5  19.4  33.1   4.7  19.2   \n",
       "170  17    07  2012          32  81  17     0  84.6  21.1  42.3   4.7  20.9   \n",
       "171  18    07  2012          33  68  15     0  86.1  23.9  51.6   5.2  23.9   \n",
       "172  19    07  2012          34  58  16     0  88.1  27.8  61.1   7.3  27.7   \n",
       "\n",
       "      FWI    Classes    \n",
       "3       0  not fire     \n",
       "4     0.5  not fire     \n",
       "5     2.5      fire     \n",
       "6     7.2      fire     \n",
       "7     7.1      fire     \n",
       "..    ...          ...  \n",
       "168  14.1      fire     \n",
       "169   7.3      fire     \n",
       "170   7.7      fire     \n",
       "171   9.1      fire     \n",
       "172    13      fire     \n",
       "\n",
       "[167 rows x 14 columns]"
      ]
     },
     "execution_count": 125,
     "metadata": {},
     "output_type": "execute_result"
    }
   ],
   "source": [
    "df1.iloc[3:170]"
   ]
  },
  {
   "cell_type": "code",
   "execution_count": 126,
   "id": "d5915b29",
   "metadata": {},
   "outputs": [
    {
     "data": {
      "text/html": [
       "<div>\n",
       "<style scoped>\n",
       "    .dataframe tbody tr th:only-of-type {\n",
       "        vertical-align: middle;\n",
       "    }\n",
       "\n",
       "    .dataframe tbody tr th {\n",
       "        vertical-align: top;\n",
       "    }\n",
       "\n",
       "    .dataframe thead th {\n",
       "        text-align: right;\n",
       "    }\n",
       "</style>\n",
       "<table border=\"1\" class=\"dataframe\">\n",
       "  <thead>\n",
       "    <tr style=\"text-align: right;\">\n",
       "      <th></th>\n",
       "      <th>day</th>\n",
       "      <th>month</th>\n",
       "      <th>year</th>\n",
       "      <th>Temperature</th>\n",
       "      <th>RH</th>\n",
       "      <th>Ws</th>\n",
       "      <th>Rain</th>\n",
       "      <th>FFMC</th>\n",
       "      <th>DMC</th>\n",
       "      <th>DC</th>\n",
       "      <th>ISI</th>\n",
       "      <th>BUI</th>\n",
       "      <th>FWI</th>\n",
       "      <th>classes</th>\n",
       "      <th>Region</th>\n",
       "    </tr>\n",
       "  </thead>\n",
       "  <tbody>\n",
       "    <tr>\n",
       "      <th>241</th>\n",
       "      <td>26</td>\n",
       "      <td>09</td>\n",
       "      <td>2012</td>\n",
       "      <td>30</td>\n",
       "      <td>65</td>\n",
       "      <td>14</td>\n",
       "      <td>0</td>\n",
       "      <td>85.4</td>\n",
       "      <td>16</td>\n",
       "      <td>44.5</td>\n",
       "      <td>4.5</td>\n",
       "      <td>16.9</td>\n",
       "      <td>6.5</td>\n",
       "      <td>fire</td>\n",
       "      <td>0</td>\n",
       "    </tr>\n",
       "    <tr>\n",
       "      <th>242</th>\n",
       "      <td>27</td>\n",
       "      <td>09</td>\n",
       "      <td>2012</td>\n",
       "      <td>28</td>\n",
       "      <td>87</td>\n",
       "      <td>15</td>\n",
       "      <td>4.4</td>\n",
       "      <td>41.1</td>\n",
       "      <td>6.5</td>\n",
       "      <td>8</td>\n",
       "      <td>0.1</td>\n",
       "      <td>6.2</td>\n",
       "      <td>0</td>\n",
       "      <td>not fire</td>\n",
       "      <td>0</td>\n",
       "    </tr>\n",
       "    <tr>\n",
       "      <th>243</th>\n",
       "      <td>28</td>\n",
       "      <td>09</td>\n",
       "      <td>2012</td>\n",
       "      <td>27</td>\n",
       "      <td>87</td>\n",
       "      <td>29</td>\n",
       "      <td>0.5</td>\n",
       "      <td>45.9</td>\n",
       "      <td>3.5</td>\n",
       "      <td>7.9</td>\n",
       "      <td>0.4</td>\n",
       "      <td>3.4</td>\n",
       "      <td>0.2</td>\n",
       "      <td>not fire</td>\n",
       "      <td>0</td>\n",
       "    </tr>\n",
       "    <tr>\n",
       "      <th>244</th>\n",
       "      <td>29</td>\n",
       "      <td>09</td>\n",
       "      <td>2012</td>\n",
       "      <td>24</td>\n",
       "      <td>54</td>\n",
       "      <td>18</td>\n",
       "      <td>0.1</td>\n",
       "      <td>79.7</td>\n",
       "      <td>4.3</td>\n",
       "      <td>15.2</td>\n",
       "      <td>1.7</td>\n",
       "      <td>5.1</td>\n",
       "      <td>0.7</td>\n",
       "      <td>not fire</td>\n",
       "      <td>0</td>\n",
       "    </tr>\n",
       "    <tr>\n",
       "      <th>245</th>\n",
       "      <td>30</td>\n",
       "      <td>09</td>\n",
       "      <td>2012</td>\n",
       "      <td>24</td>\n",
       "      <td>64</td>\n",
       "      <td>15</td>\n",
       "      <td>0.2</td>\n",
       "      <td>67.3</td>\n",
       "      <td>3.8</td>\n",
       "      <td>16.5</td>\n",
       "      <td>1.2</td>\n",
       "      <td>4.8</td>\n",
       "      <td>0.5</td>\n",
       "      <td>not fire</td>\n",
       "      <td>0</td>\n",
       "    </tr>\n",
       "  </tbody>\n",
       "</table>\n",
       "</div>"
      ],
      "text/plain": [
       "    day month  year Temperature  RH  Ws Rain  FFMC  DMC    DC  ISI   BUI  FWI  \\\n",
       "241  26    09  2012          30  65  14    0  85.4   16  44.5  4.5  16.9  6.5   \n",
       "242  27    09  2012          28  87  15  4.4  41.1  6.5     8  0.1   6.2    0   \n",
       "243  28    09  2012          27  87  29  0.5  45.9  3.5   7.9  0.4   3.4  0.2   \n",
       "244  29    09  2012          24  54  18  0.1  79.7  4.3  15.2  1.7   5.1  0.7   \n",
       "245  30    09  2012          24  64  15  0.2  67.3  3.8  16.5  1.2   4.8  0.5   \n",
       "\n",
       "          classes Region  \n",
       "241       fire         0  \n",
       "242   not fire         0  \n",
       "243   not fire         0  \n",
       "244   not fire         0  \n",
       "245  not fire          0  "
      ]
     },
     "execution_count": 126,
     "metadata": {},
     "output_type": "execute_result"
    }
   ],
   "source": [
    "df.tail()"
   ]
  },
  {
   "cell_type": "markdown",
   "id": "3c584362",
   "metadata": {},
   "source": [
    "**Show Top 5 Records**"
   ]
  },
  {
   "cell_type": "code",
   "execution_count": 66,
   "id": "fc74aa37",
   "metadata": {},
   "outputs": [
    {
     "data": {
      "text/html": [
       "<div>\n",
       "<style scoped>\n",
       "    .dataframe tbody tr th:only-of-type {\n",
       "        vertical-align: middle;\n",
       "    }\n",
       "\n",
       "    .dataframe tbody tr th {\n",
       "        vertical-align: top;\n",
       "    }\n",
       "\n",
       "    .dataframe thead th {\n",
       "        text-align: right;\n",
       "    }\n",
       "</style>\n",
       "<table border=\"1\" class=\"dataframe\">\n",
       "  <thead>\n",
       "    <tr style=\"text-align: right;\">\n",
       "      <th></th>\n",
       "      <th>day</th>\n",
       "      <th>month</th>\n",
       "      <th>year</th>\n",
       "      <th>Temperature</th>\n",
       "      <th>RH</th>\n",
       "      <th>Ws</th>\n",
       "      <th>Rain</th>\n",
       "      <th>FFMC</th>\n",
       "      <th>DMC</th>\n",
       "      <th>DC</th>\n",
       "      <th>ISI</th>\n",
       "      <th>BUI</th>\n",
       "      <th>FWI</th>\n",
       "      <th>Classes</th>\n",
       "      <th>Region</th>\n",
       "    </tr>\n",
       "  </thead>\n",
       "  <tbody>\n",
       "    <tr>\n",
       "      <th>0</th>\n",
       "      <td>01</td>\n",
       "      <td>06</td>\n",
       "      <td>2012</td>\n",
       "      <td>29</td>\n",
       "      <td>57</td>\n",
       "      <td>18</td>\n",
       "      <td>0</td>\n",
       "      <td>65.7</td>\n",
       "      <td>3.4</td>\n",
       "      <td>7.6</td>\n",
       "      <td>1.3</td>\n",
       "      <td>3.4</td>\n",
       "      <td>0.5</td>\n",
       "      <td>not fire</td>\n",
       "      <td>1</td>\n",
       "    </tr>\n",
       "    <tr>\n",
       "      <th>1</th>\n",
       "      <td>02</td>\n",
       "      <td>06</td>\n",
       "      <td>2012</td>\n",
       "      <td>29</td>\n",
       "      <td>61</td>\n",
       "      <td>13</td>\n",
       "      <td>1.3</td>\n",
       "      <td>64.4</td>\n",
       "      <td>4.1</td>\n",
       "      <td>7.6</td>\n",
       "      <td>1</td>\n",
       "      <td>3.9</td>\n",
       "      <td>0.4</td>\n",
       "      <td>not fire</td>\n",
       "      <td>1</td>\n",
       "    </tr>\n",
       "    <tr>\n",
       "      <th>2</th>\n",
       "      <td>03</td>\n",
       "      <td>06</td>\n",
       "      <td>2012</td>\n",
       "      <td>26</td>\n",
       "      <td>82</td>\n",
       "      <td>22</td>\n",
       "      <td>13.1</td>\n",
       "      <td>47.1</td>\n",
       "      <td>2.5</td>\n",
       "      <td>7.1</td>\n",
       "      <td>0.3</td>\n",
       "      <td>2.7</td>\n",
       "      <td>0.1</td>\n",
       "      <td>not fire</td>\n",
       "      <td>1</td>\n",
       "    </tr>\n",
       "    <tr>\n",
       "      <th>3</th>\n",
       "      <td>04</td>\n",
       "      <td>06</td>\n",
       "      <td>2012</td>\n",
       "      <td>25</td>\n",
       "      <td>89</td>\n",
       "      <td>13</td>\n",
       "      <td>2.5</td>\n",
       "      <td>28.6</td>\n",
       "      <td>1.3</td>\n",
       "      <td>6.9</td>\n",
       "      <td>0</td>\n",
       "      <td>1.7</td>\n",
       "      <td>0</td>\n",
       "      <td>not fire</td>\n",
       "      <td>1</td>\n",
       "    </tr>\n",
       "    <tr>\n",
       "      <th>4</th>\n",
       "      <td>05</td>\n",
       "      <td>06</td>\n",
       "      <td>2012</td>\n",
       "      <td>27</td>\n",
       "      <td>77</td>\n",
       "      <td>16</td>\n",
       "      <td>0</td>\n",
       "      <td>64.8</td>\n",
       "      <td>3</td>\n",
       "      <td>14.2</td>\n",
       "      <td>1.2</td>\n",
       "      <td>3.9</td>\n",
       "      <td>0.5</td>\n",
       "      <td>not fire</td>\n",
       "      <td>1</td>\n",
       "    </tr>\n",
       "  </tbody>\n",
       "</table>\n",
       "</div>"
      ],
      "text/plain": [
       "  day month  year Temperature  RH  Ws Rain   FFMC  DMC    DC  ISI  BUI  FWI  \\\n",
       "0  01    06  2012          29  57  18     0  65.7  3.4   7.6  1.3  3.4  0.5   \n",
       "1  02    06  2012          29  61  13   1.3  64.4  4.1   7.6    1  3.9  0.4   \n",
       "2  03    06  2012          26  82  22  13.1  47.1  2.5   7.1  0.3  2.7  0.1   \n",
       "3  04    06  2012          25  89  13   2.5  28.6  1.3   6.9    0  1.7    0   \n",
       "4  05    06  2012          27  77  16     0  64.8    3  14.2  1.2  3.9  0.5   \n",
       "\n",
       "     Classes   Region  \n",
       "0  not fire         1  \n",
       "1  not fire         1  \n",
       "2  not fire         1  \n",
       "3  not fire         1  \n",
       "4  not fire         1  "
      ]
     },
     "execution_count": 66,
     "metadata": {},
     "output_type": "execute_result"
    }
   ],
   "source": [
    "df.head()"
   ]
  },
  {
   "cell_type": "markdown",
   "id": "b258392d",
   "metadata": {},
   "source": [
    "**Shape of the dataset**"
   ]
  },
  {
   "cell_type": "code",
   "execution_count": 11,
   "id": "4770d5a9",
   "metadata": {},
   "outputs": [
    {
     "data": {
      "text/plain": [
       "(246, 15)"
      ]
     },
     "execution_count": 11,
     "metadata": {},
     "output_type": "execute_result"
    }
   ],
   "source": [
    "df.shape"
   ]
  },
  {
   "cell_type": "markdown",
   "id": "82681313",
   "metadata": {},
   "source": [
    "**Summary of the dataset**"
   ]
  },
  {
   "cell_type": "code",
   "execution_count": 12,
   "id": "ec904854",
   "metadata": {},
   "outputs": [
    {
     "data": {
      "text/html": [
       "<div>\n",
       "<style scoped>\n",
       "    .dataframe tbody tr th:only-of-type {\n",
       "        vertical-align: middle;\n",
       "    }\n",
       "\n",
       "    .dataframe tbody tr th {\n",
       "        vertical-align: top;\n",
       "    }\n",
       "\n",
       "    .dataframe thead th {\n",
       "        text-align: right;\n",
       "    }\n",
       "</style>\n",
       "<table border=\"1\" class=\"dataframe\">\n",
       "  <thead>\n",
       "    <tr style=\"text-align: right;\">\n",
       "      <th></th>\n",
       "      <th>day</th>\n",
       "      <th>month</th>\n",
       "      <th>year</th>\n",
       "      <th>Temperature</th>\n",
       "      <th>RH</th>\n",
       "      <th>Ws</th>\n",
       "      <th>Rain</th>\n",
       "      <th>FFMC</th>\n",
       "      <th>DMC</th>\n",
       "      <th>DC</th>\n",
       "      <th>ISI</th>\n",
       "      <th>BUI</th>\n",
       "      <th>FWI</th>\n",
       "      <th>Classes</th>\n",
       "      <th>Region</th>\n",
       "    </tr>\n",
       "  </thead>\n",
       "  <tbody>\n",
       "    <tr>\n",
       "      <th>count</th>\n",
       "      <td>246</td>\n",
       "      <td>245</td>\n",
       "      <td>245</td>\n",
       "      <td>245</td>\n",
       "      <td>245</td>\n",
       "      <td>245</td>\n",
       "      <td>245</td>\n",
       "      <td>245</td>\n",
       "      <td>245</td>\n",
       "      <td>245</td>\n",
       "      <td>245</td>\n",
       "      <td>245</td>\n",
       "      <td>245</td>\n",
       "      <td>244</td>\n",
       "      <td>246</td>\n",
       "    </tr>\n",
       "    <tr>\n",
       "      <th>unique</th>\n",
       "      <td>33</td>\n",
       "      <td>5</td>\n",
       "      <td>2</td>\n",
       "      <td>20</td>\n",
       "      <td>63</td>\n",
       "      <td>19</td>\n",
       "      <td>40</td>\n",
       "      <td>174</td>\n",
       "      <td>167</td>\n",
       "      <td>199</td>\n",
       "      <td>107</td>\n",
       "      <td>175</td>\n",
       "      <td>128</td>\n",
       "      <td>9</td>\n",
       "      <td>2</td>\n",
       "    </tr>\n",
       "    <tr>\n",
       "      <th>top</th>\n",
       "      <td>01</td>\n",
       "      <td>07</td>\n",
       "      <td>2012</td>\n",
       "      <td>35</td>\n",
       "      <td>64</td>\n",
       "      <td>14</td>\n",
       "      <td>0</td>\n",
       "      <td>88.9</td>\n",
       "      <td>7.9</td>\n",
       "      <td>8</td>\n",
       "      <td>1.1</td>\n",
       "      <td>3</td>\n",
       "      <td>0.4</td>\n",
       "      <td>fire</td>\n",
       "      <td>1</td>\n",
       "    </tr>\n",
       "    <tr>\n",
       "      <th>freq</th>\n",
       "      <td>8</td>\n",
       "      <td>62</td>\n",
       "      <td>244</td>\n",
       "      <td>29</td>\n",
       "      <td>10</td>\n",
       "      <td>43</td>\n",
       "      <td>133</td>\n",
       "      <td>8</td>\n",
       "      <td>5</td>\n",
       "      <td>5</td>\n",
       "      <td>8</td>\n",
       "      <td>5</td>\n",
       "      <td>12</td>\n",
       "      <td>131</td>\n",
       "      <td>128</td>\n",
       "    </tr>\n",
       "  </tbody>\n",
       "</table>\n",
       "</div>"
      ],
      "text/plain": [
       "        day month  year Temperature   RH   Ws Rain   FFMC  DMC   DC  ISI  BUI  \\\n",
       "count   246   245   245         245  245  245   245   245  245  245  245  245   \n",
       "unique   33     5     2          20   63   19    40   174  167  199  107  175   \n",
       "top      01    07  2012          35   64   14     0  88.9  7.9    8  1.1    3   \n",
       "freq      8    62   244          29   10   43   133     8    5    5    8    5   \n",
       "\n",
       "        FWI Classes   Region  \n",
       "count   245       244    246  \n",
       "unique  128         9      2  \n",
       "top     0.4   fire         1  \n",
       "freq     12       131    128  "
      ]
     },
     "execution_count": 12,
     "metadata": {},
     "output_type": "execute_result"
    }
   ],
   "source": [
    "df.describe()"
   ]
  },
  {
   "cell_type": "markdown",
   "id": "6fb91ae6",
   "metadata": {},
   "source": [
    "**Check Datatypes in the dataset**"
   ]
  },
  {
   "cell_type": "code",
   "execution_count": 13,
   "id": "18cd6bd3",
   "metadata": {},
   "outputs": [
    {
     "name": "stdout",
     "output_type": "stream",
     "text": [
      "<class 'pandas.core.frame.DataFrame'>\n",
      "RangeIndex: 246 entries, 0 to 245\n",
      "Data columns (total 15 columns):\n",
      " #   Column       Non-Null Count  Dtype \n",
      "---  ------       --------------  ----- \n",
      " 0   day          246 non-null    object\n",
      " 1   month        245 non-null    object\n",
      " 2   year         245 non-null    object\n",
      " 3   Temperature  245 non-null    object\n",
      " 4    RH          245 non-null    object\n",
      " 5    Ws          245 non-null    object\n",
      " 6   Rain         245 non-null    object\n",
      " 7   FFMC         245 non-null    object\n",
      " 8   DMC          245 non-null    object\n",
      " 9   DC           245 non-null    object\n",
      " 10  ISI          245 non-null    object\n",
      " 11  BUI          245 non-null    object\n",
      " 12  FWI          245 non-null    object\n",
      " 13  Classes      244 non-null    object\n",
      " 14  Region       246 non-null    object\n",
      "dtypes: object(15)\n",
      "memory usage: 29.0+ KB\n"
     ]
    }
   ],
   "source": [
    "df.info()"
   ]
  },
  {
   "cell_type": "markdown",
   "id": "343fbbb6",
   "metadata": {},
   "source": [
    "## Define numerical & categorical columns"
   ]
  },
  {
   "cell_type": "code",
   "execution_count": 7,
   "id": "e1dddb6b",
   "metadata": {},
   "outputs": [
    {
     "name": "stdout",
     "output_type": "stream",
     "text": [
      "We have 0 numerical features : []\n",
      "\n",
      "We have 15 categorical features : ['day', 'month', 'year', 'Temperature', ' RH', ' Ws', 'Rain ', 'FFMC', 'DMC', 'DC', 'ISI', 'BUI', 'FWI', 'Classes  ', 'Region']\n"
     ]
    }
   ],
   "source": [
    "numeric_features = [feature for feature in df.columns if df[feature].dtype != 'O']\n",
    "categorical_features = [feature for feature in df.columns if df[feature].dtype == 'O']\n",
    "\n",
    "print('We have {} numerical features : {}'.format(len(numeric_features), numeric_features))\n",
    "print('\\nWe have {} categorical features : {}'.format(len(categorical_features), categorical_features))"
   ]
  },
  {
   "cell_type": "markdown",
   "id": "d51382bc",
   "metadata": {},
   "source": [
    "#### proportion of count data on categorical columns"
   ]
  },
  {
   "cell_type": "code",
   "execution_count": 8,
   "id": "a6cd7d4c",
   "metadata": {},
   "outputs": [
    {
     "name": "stdout",
     "output_type": "stream",
     "text": [
      "01                               3.252033\n",
      "02                               3.252033\n",
      "30                               3.252033\n",
      "29                               3.252033\n",
      "28                               3.252033\n",
      "27                               3.252033\n",
      "26                               3.252033\n",
      "25                               3.252033\n",
      "24                               3.252033\n",
      "23                               3.252033\n",
      "22                               3.252033\n",
      "21                               3.252033\n",
      "20                               3.252033\n",
      "19                               3.252033\n",
      "18                               3.252033\n",
      "17                               3.252033\n",
      "16                               3.252033\n",
      "15                               3.252033\n",
      "03                               3.252033\n",
      "04                               3.252033\n",
      "05                               3.252033\n",
      "06                               3.252033\n",
      "07                               3.252033\n",
      "08                               3.252033\n",
      "09                               3.252033\n",
      "10                               3.252033\n",
      "11                               3.252033\n",
      "12                               3.252033\n",
      "13                               3.252033\n",
      "14                               3.252033\n",
      "31                               1.626016\n",
      "Sidi-Bel Abbes Region Dataset    0.406504\n",
      "day                              0.406504\n",
      "Name: day, dtype: float64\n",
      "---------------------------\n",
      "07       25.306122\n",
      "08       25.306122\n",
      "06       24.489796\n",
      "09       24.489796\n",
      "month     0.408163\n",
      "Name: month, dtype: float64\n",
      "---------------------------\n",
      "2012    99.591837\n",
      "year     0.408163\n",
      "Name: year, dtype: float64\n",
      "---------------------------\n",
      "35             11.836735\n",
      "31             10.204082\n",
      "34              9.795918\n",
      "33              9.387755\n",
      "30              8.979592\n",
      "32              8.571429\n",
      "36              8.571429\n",
      "29              7.346939\n",
      "28              6.122449\n",
      "37              3.673469\n",
      "27              3.265306\n",
      "25              2.448980\n",
      "39              2.448980\n",
      "26              2.040816\n",
      "24              1.224490\n",
      "38              1.224490\n",
      "40              1.224490\n",
      "22              0.816327\n",
      "Temperature     0.408163\n",
      "42              0.408163\n",
      "Name: Temperature, dtype: float64\n",
      "---------------------------\n",
      "64     4.081633\n",
      "55     4.081633\n",
      "58     3.265306\n",
      "54     3.265306\n",
      "78     3.265306\n",
      "         ...   \n",
      "21     0.408163\n",
      " RH    0.408163\n",
      "24     0.408163\n",
      "38     0.408163\n",
      "26     0.408163\n",
      "Name:  RH, Length: 63, dtype: float64\n",
      "---------------------------\n",
      "14     17.551020\n",
      "15     16.326531\n",
      "13     12.244898\n",
      "17     11.428571\n",
      "16     11.020408\n",
      "18     10.612245\n",
      "19      6.122449\n",
      "21      3.265306\n",
      "11      2.857143\n",
      "12      2.857143\n",
      "10      1.224490\n",
      "9       0.816327\n",
      "20      0.816327\n",
      "22      0.816327\n",
      " Ws     0.408163\n",
      "26      0.408163\n",
      "8       0.408163\n",
      "6       0.408163\n",
      "29      0.408163\n",
      "Name:  Ws, dtype: float64\n",
      "---------------------------\n",
      "0        54.285714\n",
      "0.1       7.346939\n",
      "0.2       4.897959\n",
      "0.3       4.081633\n",
      "0.4       3.265306\n",
      "0.7       2.448980\n",
      "0.6       2.448980\n",
      "0.5       2.040816\n",
      "1.1       1.224490\n",
      "1.8       1.224490\n",
      "2         1.224490\n",
      "1.2       1.224490\n",
      "3.1       0.816327\n",
      "2.9       0.816327\n",
      "1.3       0.816327\n",
      "3.8       0.816327\n",
      "0.8       0.816327\n",
      "1         0.816327\n",
      "1.4       0.816327\n",
      "1.9       0.408163\n",
      "6         0.408163\n",
      "4.7       0.408163\n",
      "4.1       0.408163\n",
      "2.2       0.408163\n",
      "1.7       0.408163\n",
      "6.5       0.408163\n",
      "4.5       0.408163\n",
      "8.7       0.408163\n",
      "0.9       0.408163\n",
      "4         0.408163\n",
      "Rain      0.408163\n",
      "5.8       0.408163\n",
      "8.3       0.408163\n",
      "4.6       0.408163\n",
      "10.1      0.408163\n",
      "7.2       0.408163\n",
      "16.8      0.408163\n",
      "2.5       0.408163\n",
      "13.1      0.408163\n",
      "4.4       0.408163\n",
      "Name: Rain , dtype: float64\n",
      "---------------------------\n",
      "88.9    3.265306\n",
      "89.4    2.040816\n",
      "89.1    1.632653\n",
      "85.4    1.632653\n",
      "89.3    1.632653\n",
      "          ...   \n",
      "82.4    0.408163\n",
      "81.3    0.408163\n",
      "86.4    0.408163\n",
      "76.6    0.408163\n",
      "67.3    0.408163\n",
      "Name: FFMC, Length: 174, dtype: float64\n",
      "---------------------------\n",
      "7.9     2.040816\n",
      "12.5    1.632653\n",
      "1.9     1.632653\n",
      "3.4     1.224490\n",
      "4.6     1.224490\n",
      "          ...   \n",
      "10.9    0.408163\n",
      "2.1     0.408163\n",
      "3.6     0.408163\n",
      "1.2     0.408163\n",
      "4.3     0.408163\n",
      "Name: DMC, Length: 167, dtype: float64\n",
      "---------------------------\n",
      "8        2.040816\n",
      "7.6      1.632653\n",
      "7.8      1.632653\n",
      "8.4      1.632653\n",
      "7.5      1.632653\n",
      "           ...   \n",
      "90.4     0.408163\n",
      "100.7    0.408163\n",
      "110.9    0.408163\n",
      "120.9    0.408163\n",
      "16.5     0.408163\n",
      "Name: DC, Length: 199, dtype: float64\n",
      "---------------------------\n",
      "1.1     3.265306\n",
      "1.2     2.857143\n",
      "0.4     2.040816\n",
      "4.7     2.040816\n",
      "5.2     2.040816\n",
      "          ...   \n",
      "11.7    0.408163\n",
      "11.3    0.408163\n",
      "7.6     0.408163\n",
      "9.9     0.408163\n",
      "11.2    0.408163\n",
      "Name: ISI, Length: 107, dtype: float64\n",
      "---------------------------\n",
      "3       2.040816\n",
      "5.1     1.632653\n",
      "8.3     1.224490\n",
      "7.7     1.224490\n",
      "14.2    1.224490\n",
      "          ...   \n",
      "67.4    0.408163\n",
      "62.9    0.408163\n",
      "59.3    0.408163\n",
      "57.1    0.408163\n",
      "4.8     0.408163\n",
      "Name: BUI, Length: 175, dtype: float64\n",
      "---------------------------\n",
      "0.4     4.897959\n",
      "0.8     4.081633\n",
      "0       3.673469\n",
      "0.5     3.673469\n",
      "0.1     3.673469\n",
      "          ...   \n",
      "20.3    0.408163\n",
      "22.3    0.408163\n",
      "20.4    0.408163\n",
      "16.8    0.408163\n",
      "6.5     0.408163\n",
      "Name: FWI, Length: 128, dtype: float64\n",
      "---------------------------\n",
      "fire             53.688525\n",
      "not fire         41.393443\n",
      "fire              1.639344\n",
      "fire              0.819672\n",
      "not fire          0.819672\n",
      "not fire          0.409836\n",
      "Classes           0.409836\n",
      "not fire          0.409836\n",
      "not fire          0.409836\n",
      "Name: Classes  , dtype: float64\n",
      "---------------------------\n",
      "1    52.03252\n",
      "0    47.96748\n",
      "Name: Region, dtype: float64\n",
      "---------------------------\n"
     ]
    }
   ],
   "source": [
    "for col in categorical_features:\n",
    "    print(df[col].value_counts(normalize=True) * 100)\n",
    "    print('---------------------------')"
   ]
  },
  {
   "cell_type": "markdown",
   "id": "638ae8d8",
   "metadata": {},
   "source": [
    "## Univariate Analysis"
   ]
  },
  {
   "cell_type": "markdown",
   "id": "aed0718b",
   "metadata": {},
   "source": [
    "* The term univariate analysis refers to the analysis of one variable prefix “uni” means “one.” The purpose of univariate analysis is to understand the distribution of values for a single variable."
   ]
  },
  {
   "cell_type": "markdown",
   "id": "1d3553b2",
   "metadata": {},
   "source": [
    "### Categorical Features"
   ]
  },
  {
   "cell_type": "code",
   "execution_count": 9,
   "id": "93973a48",
   "metadata": {},
   "outputs": [
    {
     "data": {
      "image/png": "[encoded data removed]",
      "text/plain": [
       "<Figure size 1440x1080 with 4 Axes>"
      ]
     },
     "metadata": {
      "needs_background": "light"
     },
     "output_type": "display_data"
    }
   ],
   "source": [
    "plt.figure(figsize=(20, 15))\n",
    "plt.suptitle('Univariate Analysis of Categorical Features', fontsize=20, fontweight='bold', alpha=0.8, y=1.)\n",
    "cat1 = [ 'Temperature','year','month','day']\n",
    "for i in range(0, len(cat1)):\n",
    "    plt.subplot(2, 2, i+1)\n",
    "    sns.countplot(x=df[cat1[i]])\n",
    "    plt.xlabel(cat1[i])\n",
    "    plt.xticks(rotation=45)\n",
    "    plt.tight_layout()"
   ]
  },
  {
   "cell_type": "markdown",
   "id": "f7e525b6",
   "metadata": {},
   "source": [
    "**observations:**\n",
    "* Temperature feature above shows the highest reached temperature was around 30.\n",
    "* The day feature graph shows almost the whole month the count remained the same.\n",
    "* year also in 2012 analysis has taken place as clearly shown in the graph."
   ]
  },
  {
   "cell_type": "markdown",
   "id": "80320057",
   "metadata": {},
   "source": [
    "####  how many columns are in the dataframe"
   ]
  },
  {
   "cell_type": "code",
   "execution_count": 10,
   "id": "4e3e1f1d",
   "metadata": {},
   "outputs": [
    {
     "data": {
      "text/plain": [
       "Index(['day', 'month', 'year', 'Temperature', ' RH', ' Ws', 'Rain ', 'FFMC',\n",
       "       'DMC', 'DC', 'ISI', 'BUI', 'FWI', 'Classes  ', 'Region'],\n",
       "      dtype='object')"
      ]
     },
     "execution_count": 10,
     "metadata": {},
     "output_type": "execute_result"
    }
   ],
   "source": [
    "df.columns"
   ]
  },
  {
   "cell_type": "markdown",
   "id": "40faf31b",
   "metadata": {},
   "source": [
    "#### Renaming column names so as to remove spaces behind"
   ]
  },
  {
   "cell_type": "code",
   "execution_count": 129,
   "id": "a7ea5262",
   "metadata": {},
   "outputs": [],
   "source": [
    "df1.rename(columns={'Rain ': 'Rain', 'Classes  ': 'classes'}, inplace=True)"
   ]
  },
  {
   "cell_type": "code",
   "execution_count": 27,
   "id": "c1fd4c3f",
   "metadata": {},
   "outputs": [
    {
     "data": {
      "text/plain": [
       "day             33\n",
       "month            6\n",
       "year             3\n",
       "Temperature     21\n",
       " RH             64\n",
       " Ws             20\n",
       "Rain            41\n",
       "FFMC           174\n",
       "DMC            167\n",
       "DC             199\n",
       "ISI            107\n",
       "BUI            175\n",
       "FWI            128\n",
       "classes          9\n",
       "Region           2\n",
       "dtype: int64"
      ]
     },
     "execution_count": 27,
     "metadata": {},
     "output_type": "execute_result"
    }
   ],
   "source": [
    "df.nunique()"
   ]
  },
  {
   "cell_type": "markdown",
   "id": "6603123a",
   "metadata": {},
   "source": [
    "#### checking for null values and dropping them if any"
   ]
  },
  {
   "cell_type": "code",
   "execution_count": 11,
   "id": "53b6a1e4",
   "metadata": {},
   "outputs": [
    {
     "data": {
      "text/plain": [
       "day            0\n",
       "month          1\n",
       "year           1\n",
       "Temperature    1\n",
       " RH            1\n",
       " Ws            1\n",
       "Rain           1\n",
       "FFMC           1\n",
       "DMC            1\n",
       "DC             1\n",
       "ISI            1\n",
       "BUI            1\n",
       "FWI            1\n",
       "Classes        2\n",
       "Region         0\n",
       "dtype: int64"
      ]
     },
     "execution_count": 11,
     "metadata": {},
     "output_type": "execute_result"
    }
   ],
   "source": [
    "df.isnull().sum()"
   ]
  },
  {
   "cell_type": "code",
   "execution_count": 13,
   "id": "38d5ac25",
   "metadata": {},
   "outputs": [],
   "source": [
    "df['month'].fillna(0,inplace=True)"
   ]
  },
  {
   "cell_type": "code",
   "execution_count": 14,
   "id": "fa216024",
   "metadata": {},
   "outputs": [],
   "source": [
    "df['year'].fillna(0,inplace=True)"
   ]
  },
  {
   "cell_type": "code",
   "execution_count": 15,
   "id": "2cbee8a3",
   "metadata": {},
   "outputs": [],
   "source": [
    "df['Temperature'].fillna(0,inplace=True)"
   ]
  },
  {
   "cell_type": "code",
   "execution_count": 17,
   "id": "030f20da",
   "metadata": {},
   "outputs": [],
   "source": [
    "df[' RH'].fillna(0,inplace=True)"
   ]
  },
  {
   "cell_type": "code",
   "execution_count": 18,
   "id": "6e7ef2f7",
   "metadata": {},
   "outputs": [],
   "source": [
    "df[' Ws'].fillna(0,inplace=True)"
   ]
  },
  {
   "cell_type": "code",
   "execution_count": 28,
   "id": "d4771cba",
   "metadata": {},
   "outputs": [],
   "source": [
    "df['Rain'].fillna(0,inplace=True)"
   ]
  },
  {
   "cell_type": "code",
   "execution_count": 29,
   "id": "cef7c86a",
   "metadata": {},
   "outputs": [],
   "source": [
    "df['FFMC'].fillna(0,inplace=True)"
   ]
  },
  {
   "cell_type": "code",
   "execution_count": 30,
   "id": "50f46adf",
   "metadata": {},
   "outputs": [],
   "source": [
    "df['DMC'].fillna(0,inplace=True)"
   ]
  },
  {
   "cell_type": "code",
   "execution_count": null,
   "id": "30bf07ce",
   "metadata": {},
   "outputs": [],
   "source": [
    "df['DMC'].fillna(0,inplace=True)"
   ]
  },
  {
   "cell_type": "code",
   "execution_count": 31,
   "id": "aa33d3bc",
   "metadata": {},
   "outputs": [],
   "source": [
    "df['DC'].fillna(0,inplace=True)"
   ]
  },
  {
   "cell_type": "code",
   "execution_count": 32,
   "id": "86bad7c3",
   "metadata": {},
   "outputs": [],
   "source": [
    "df['ISI'].fillna(0,inplace=True)"
   ]
  },
  {
   "cell_type": "code",
   "execution_count": 38,
   "id": "b4b7a36d",
   "metadata": {},
   "outputs": [],
   "source": [
    "df['BUI'].fillna(0,inplace=True)"
   ]
  },
  {
   "cell_type": "code",
   "execution_count": 33,
   "id": "d9ac70c1",
   "metadata": {},
   "outputs": [],
   "source": [
    "df['FWI'].fillna(0,inplace=True)"
   ]
  },
  {
   "cell_type": "code",
   "execution_count": 36,
   "id": "5df4b870",
   "metadata": {},
   "outputs": [],
   "source": [
    "df['classes'].fillna(0,inplace=True)"
   ]
  },
  {
   "cell_type": "code",
   "execution_count": 34,
   "id": "7581e32d",
   "metadata": {},
   "outputs": [],
   "source": [
    "df['Region'].fillna(0,inplace=True)"
   ]
  },
  {
   "cell_type": "markdown",
   "id": "7f9e3da1",
   "metadata": {},
   "source": [
    "#### checking for null values after imputation"
   ]
  },
  {
   "cell_type": "code",
   "execution_count": 39,
   "id": "187229bb",
   "metadata": {},
   "outputs": [
    {
     "data": {
      "text/plain": [
       "day            0\n",
       "month          0\n",
       "year           0\n",
       "Temperature    0\n",
       " RH            0\n",
       " Ws            0\n",
       "Rain           0\n",
       "FFMC           0\n",
       "DMC            0\n",
       "DC             0\n",
       "ISI            0\n",
       "BUI            0\n",
       "FWI            0\n",
       "classes        0\n",
       "Region         0\n",
       "dtype: int64"
      ]
     },
     "execution_count": 39,
     "metadata": {},
     "output_type": "execute_result"
    }
   ],
   "source": [
    "df.isnull().sum()"
   ]
  },
  {
   "cell_type": "markdown",
   "id": "94fd0174",
   "metadata": {},
   "source": [
    "### Relationship analysis"
   ]
  },
  {
   "cell_type": "code",
   "execution_count": 154,
   "id": "707480cf",
   "metadata": {},
   "outputs": [],
   "source": [
    "#dropping categorical values in order to get the correlation between the features\n",
    "df2 = df1.drop(['year','classes','Region'], axis=1)"
   ]
  },
  {
   "cell_type": "code",
   "execution_count": 155,
   "id": "a3ae49cd",
   "metadata": {},
   "outputs": [
    {
     "data": {
      "text/html": [
       "<div>\n",
       "<style scoped>\n",
       "    .dataframe tbody tr th:only-of-type {\n",
       "        vertical-align: middle;\n",
       "    }\n",
       "\n",
       "    .dataframe tbody tr th {\n",
       "        vertical-align: top;\n",
       "    }\n",
       "\n",
       "    .dataframe thead th {\n",
       "        text-align: right;\n",
       "    }\n",
       "</style>\n",
       "<table border=\"1\" class=\"dataframe\">\n",
       "  <thead>\n",
       "    <tr style=\"text-align: right;\">\n",
       "      <th></th>\n",
       "      <th>day</th>\n",
       "      <th>month</th>\n",
       "      <th>Temperature</th>\n",
       "      <th>RH</th>\n",
       "      <th>Ws</th>\n",
       "      <th>Rain</th>\n",
       "      <th>FFMC</th>\n",
       "      <th>DMC</th>\n",
       "      <th>DC</th>\n",
       "      <th>ISI</th>\n",
       "      <th>BUI</th>\n",
       "      <th>FWI</th>\n",
       "    </tr>\n",
       "  </thead>\n",
       "  <tbody>\n",
       "    <tr>\n",
       "      <th>0</th>\n",
       "      <td>1.0</td>\n",
       "      <td>6.0</td>\n",
       "      <td>29.0</td>\n",
       "      <td>57.0</td>\n",
       "      <td>18.0</td>\n",
       "      <td>0.0</td>\n",
       "      <td>65.7</td>\n",
       "      <td>3.4</td>\n",
       "      <td>7.6</td>\n",
       "      <td>1.3</td>\n",
       "      <td>3.4</td>\n",
       "      <td>0.5</td>\n",
       "    </tr>\n",
       "    <tr>\n",
       "      <th>1</th>\n",
       "      <td>2.0</td>\n",
       "      <td>6.0</td>\n",
       "      <td>29.0</td>\n",
       "      <td>61.0</td>\n",
       "      <td>13.0</td>\n",
       "      <td>1.3</td>\n",
       "      <td>64.4</td>\n",
       "      <td>4.1</td>\n",
       "      <td>7.6</td>\n",
       "      <td>1.0</td>\n",
       "      <td>3.9</td>\n",
       "      <td>0.4</td>\n",
       "    </tr>\n",
       "    <tr>\n",
       "      <th>2</th>\n",
       "      <td>3.0</td>\n",
       "      <td>6.0</td>\n",
       "      <td>26.0</td>\n",
       "      <td>82.0</td>\n",
       "      <td>22.0</td>\n",
       "      <td>13.1</td>\n",
       "      <td>47.1</td>\n",
       "      <td>2.5</td>\n",
       "      <td>7.1</td>\n",
       "      <td>0.3</td>\n",
       "      <td>2.7</td>\n",
       "      <td>0.1</td>\n",
       "    </tr>\n",
       "    <tr>\n",
       "      <th>3</th>\n",
       "      <td>4.0</td>\n",
       "      <td>6.0</td>\n",
       "      <td>25.0</td>\n",
       "      <td>89.0</td>\n",
       "      <td>13.0</td>\n",
       "      <td>2.5</td>\n",
       "      <td>28.6</td>\n",
       "      <td>1.3</td>\n",
       "      <td>6.9</td>\n",
       "      <td>0.0</td>\n",
       "      <td>1.7</td>\n",
       "      <td>0.0</td>\n",
       "    </tr>\n",
       "    <tr>\n",
       "      <th>4</th>\n",
       "      <td>5.0</td>\n",
       "      <td>6.0</td>\n",
       "      <td>27.0</td>\n",
       "      <td>77.0</td>\n",
       "      <td>16.0</td>\n",
       "      <td>0.0</td>\n",
       "      <td>64.8</td>\n",
       "      <td>3.0</td>\n",
       "      <td>14.2</td>\n",
       "      <td>1.2</td>\n",
       "      <td>3.9</td>\n",
       "      <td>0.5</td>\n",
       "    </tr>\n",
       "    <tr>\n",
       "      <th>...</th>\n",
       "      <td>...</td>\n",
       "      <td>...</td>\n",
       "      <td>...</td>\n",
       "      <td>...</td>\n",
       "      <td>...</td>\n",
       "      <td>...</td>\n",
       "      <td>...</td>\n",
       "      <td>...</td>\n",
       "      <td>...</td>\n",
       "      <td>...</td>\n",
       "      <td>...</td>\n",
       "      <td>...</td>\n",
       "    </tr>\n",
       "    <tr>\n",
       "      <th>241</th>\n",
       "      <td>26.0</td>\n",
       "      <td>9.0</td>\n",
       "      <td>30.0</td>\n",
       "      <td>65.0</td>\n",
       "      <td>14.0</td>\n",
       "      <td>0.0</td>\n",
       "      <td>85.4</td>\n",
       "      <td>16.0</td>\n",
       "      <td>44.5</td>\n",
       "      <td>4.5</td>\n",
       "      <td>16.9</td>\n",
       "      <td>6.5</td>\n",
       "    </tr>\n",
       "    <tr>\n",
       "      <th>242</th>\n",
       "      <td>27.0</td>\n",
       "      <td>9.0</td>\n",
       "      <td>28.0</td>\n",
       "      <td>87.0</td>\n",
       "      <td>15.0</td>\n",
       "      <td>4.4</td>\n",
       "      <td>41.1</td>\n",
       "      <td>6.5</td>\n",
       "      <td>8.0</td>\n",
       "      <td>0.1</td>\n",
       "      <td>6.2</td>\n",
       "      <td>0.0</td>\n",
       "    </tr>\n",
       "    <tr>\n",
       "      <th>243</th>\n",
       "      <td>28.0</td>\n",
       "      <td>9.0</td>\n",
       "      <td>27.0</td>\n",
       "      <td>87.0</td>\n",
       "      <td>29.0</td>\n",
       "      <td>0.5</td>\n",
       "      <td>45.9</td>\n",
       "      <td>3.5</td>\n",
       "      <td>7.9</td>\n",
       "      <td>0.4</td>\n",
       "      <td>3.4</td>\n",
       "      <td>0.2</td>\n",
       "    </tr>\n",
       "    <tr>\n",
       "      <th>244</th>\n",
       "      <td>29.0</td>\n",
       "      <td>9.0</td>\n",
       "      <td>24.0</td>\n",
       "      <td>54.0</td>\n",
       "      <td>18.0</td>\n",
       "      <td>0.1</td>\n",
       "      <td>79.7</td>\n",
       "      <td>4.3</td>\n",
       "      <td>15.2</td>\n",
       "      <td>1.7</td>\n",
       "      <td>5.1</td>\n",
       "      <td>0.7</td>\n",
       "    </tr>\n",
       "    <tr>\n",
       "      <th>245</th>\n",
       "      <td>30.0</td>\n",
       "      <td>9.0</td>\n",
       "      <td>24.0</td>\n",
       "      <td>64.0</td>\n",
       "      <td>15.0</td>\n",
       "      <td>0.2</td>\n",
       "      <td>67.3</td>\n",
       "      <td>3.8</td>\n",
       "      <td>16.5</td>\n",
       "      <td>1.2</td>\n",
       "      <td>4.8</td>\n",
       "      <td>0.5</td>\n",
       "    </tr>\n",
       "  </tbody>\n",
       "</table>\n",
       "<p>243 rows × 12 columns</p>\n",
       "</div>"
      ],
      "text/plain": [
       "      day  month  Temperature    RH    Ws  Rain  FFMC   DMC    DC  ISI   BUI  \\\n",
       "0     1.0    6.0         29.0  57.0  18.0   0.0  65.7   3.4   7.6  1.3   3.4   \n",
       "1     2.0    6.0         29.0  61.0  13.0   1.3  64.4   4.1   7.6  1.0   3.9   \n",
       "2     3.0    6.0         26.0  82.0  22.0  13.1  47.1   2.5   7.1  0.3   2.7   \n",
       "3     4.0    6.0         25.0  89.0  13.0   2.5  28.6   1.3   6.9  0.0   1.7   \n",
       "4     5.0    6.0         27.0  77.0  16.0   0.0  64.8   3.0  14.2  1.2   3.9   \n",
       "..    ...    ...          ...   ...   ...   ...   ...   ...   ...  ...   ...   \n",
       "241  26.0    9.0         30.0  65.0  14.0   0.0  85.4  16.0  44.5  4.5  16.9   \n",
       "242  27.0    9.0         28.0  87.0  15.0   4.4  41.1   6.5   8.0  0.1   6.2   \n",
       "243  28.0    9.0         27.0  87.0  29.0   0.5  45.9   3.5   7.9  0.4   3.4   \n",
       "244  29.0    9.0         24.0  54.0  18.0   0.1  79.7   4.3  15.2  1.7   5.1   \n",
       "245  30.0    9.0         24.0  64.0  15.0   0.2  67.3   3.8  16.5  1.2   4.8   \n",
       "\n",
       "     FWI  \n",
       "0    0.5  \n",
       "1    0.4  \n",
       "2    0.1  \n",
       "3    0.0  \n",
       "4    0.5  \n",
       "..   ...  \n",
       "241  6.5  \n",
       "242  0.0  \n",
       "243  0.2  \n",
       "244  0.7  \n",
       "245  0.5  \n",
       "\n",
       "[243 rows x 12 columns]"
      ]
     },
     "execution_count": 155,
     "metadata": {},
     "output_type": "execute_result"
    }
   ],
   "source": [
    "#converting to numeric incase if any value found which is not numeric\n",
    "df2.astype(float)"
   ]
  },
  {
   "cell_type": "markdown",
   "id": "1d31fda2",
   "metadata": {},
   "source": [
    "#### Joint Plot\n",
    "* This function provides a convenient interface to the ‘JointGrid’ class, with several canned plot kinds."
   ]
  },
  {
   "cell_type": "code",
   "execution_count": 140,
   "id": "8a38fa98",
   "metadata": {},
   "outputs": [
    {
     "data": {
      "text/plain": [
       "<seaborn.axisgrid.JointGrid at 0x9abb9d2c70>"
      ]
     },
     "execution_count": 140,
     "metadata": {},
     "output_type": "execute_result"
    },
    {
     "data": {
      "image/png": "[encoded data removed]",
      "text/plain": [
       "<Figure size 432x432 with 3 Axes>"
      ]
     },
     "metadata": {
      "needs_background": "light"
     },
     "output_type": "display_data"
    }
   ],
   "source": [
    "sns.jointplot(x='month',y='Temperature',data=df2,color='r')"
   ]
  },
  {
   "cell_type": "markdown",
   "id": "f170b736",
   "metadata": {},
   "source": [
    "#### observation:\n",
    "* The above plot displays a scatterplot with two histograms at the margins of the graph.\n",
    "* The highest Temperature observed was on August month which has 42F according to the above graph.\n",
    "* The strength of the relationship appears to be stable because the points are restricted in the graph. \n",
    "* By seeing the marginal histograms, we can conclude that there are very minimal number of outliers w.r.t the features in consideration."
   ]
  },
  {
   "cell_type": "code",
   "execution_count": 144,
   "id": "f5149e42",
   "metadata": {},
   "outputs": [],
   "source": [
    "df2 = (df2['day']).astype(int)"
   ]
  },
  {
   "cell_type": "code",
   "execution_count": 165,
   "id": "a94eb702",
   "metadata": {},
   "outputs": [
    {
     "data": {
      "image/png": "[encoded data removed]",
      "text/plain": [
       "<Figure size 640x480 with 1 Axes>"
      ]
     },
     "metadata": {},
     "output_type": "display_data"
    }
   ],
   "source": [
    "#Barplot\n",
    "\n",
    "plt.style.use(\"default\")\n",
    "sns.barplot(x='day', y='Temperature',data=df2)\n",
    "plt.title(\"Day vs Temperature\",fontsize=15)\n",
    "plt.xlabel(\"Day\")\n",
    "plt.ylabel(\"Temperature\")\n",
    "plt.show()"
   ]
  },
  {
   "cell_type": "markdown",
   "id": "245f067a",
   "metadata": {},
   "source": [
    "#### observations:\n",
    "* Temperature is shown on the Y-axis with respect to each and every day of a month on X-axis\n",
    "* In the date 17th and 31st of the month the temperature is at its peak.\n",
    "* But huge variation of the temperature is not there in this month."
   ]
  },
  {
   "cell_type": "code",
   "execution_count": 163,
   "id": "de3c322e",
   "metadata": {},
   "outputs": [],
   "source": [
    "#converting temperature values to float values which is helpful in analysing the relationship between the variables.\n",
    "df2 = df2.explode('Temperature')\n",
    "df2['Temperature'] = df2['Temperature'].astype('float')\n"
   ]
  },
  {
   "cell_type": "markdown",
   "id": "9d005bcf",
   "metadata": {},
   "source": [
    "#### violin plot\n",
    "A violin plot is a hybrid of a box plot and a kernel density plot, which shows peaks in the data."
   ]
  },
  {
   "cell_type": "code",
   "execution_count": 164,
   "id": "4706557f",
   "metadata": {},
   "outputs": [
    {
     "data": {
      "text/plain": [
       "<AxesSubplot:xlabel='day', ylabel='Temperature'>"
      ]
     },
     "execution_count": 164,
     "metadata": {},
     "output_type": "execute_result"
    },
    {
     "data": {
      "image/png": "[encoded data removed]",
      "text/plain": [
       "<Figure size 640x480 with 1 Axes>"
      ]
     },
     "metadata": {},
     "output_type": "display_data"
    }
   ],
   "source": [
    "sns.violinplot(data=df2, x='day', y='Temperature')"
   ]
  },
  {
   "cell_type": "markdown",
   "id": "75314909",
   "metadata": {},
   "source": [
    "#### observation:\n",
    "* The maximum temperature above 45deg Celsius is seen on 17th and 2nd of the month which is considered for the correlation.\n",
    "* And also in the same day huge temperature variation can be seen on 2nd of the month as you can see above graph."
   ]
  },
  {
   "cell_type": "markdown",
   "id": "5ee8dcbf",
   "metadata": {},
   "source": [
    "#### Pairplot\n",
    "A pairplot plot a pairwise relationships in a dataset. The pairplot function creates a grid of Axes such that each variable in data will by shared in the y-axis across a single row and in the x-axis across a single column."
   ]
  },
  {
   "cell_type": "code",
   "execution_count": 166,
   "id": "8152d92b",
   "metadata": {},
   "outputs": [
    {
     "data": {
      "text/plain": [
       "<seaborn.axisgrid.PairGrid at 0x9abda6b2e0>"
      ]
     },
     "execution_count": 166,
     "metadata": {},
     "output_type": "execute_result"
    },
    {
     "data": {
      "image/png": "[encoded data removed]",
      "text/plain": [
       "<Figure size 500x500 with 6 Axes>"
      ]
     },
     "metadata": {},
     "output_type": "display_data"
    }
   ],
   "source": [
    "sns.pairplot(df2)"
   ]
  },
  {
   "cell_type": "markdown",
   "id": "11d8dc63",
   "metadata": {},
   "source": [
    "#### observations:\n",
    "* Normal distribution of temperature can be seen in above histogram\n",
    "* And by also seeing the scattered plot we can say that the temperature variation is very minimal as the points are equally scattered.\n"
   ]
  },
  {
   "cell_type": "markdown",
   "id": "c178b31f",
   "metadata": {},
   "source": [
    "#### Line plot\n",
    "A Line plot can be defined as a graph that displays data as points or check marks above a number line, showing the frequency of each value. "
   ]
  },
  {
   "cell_type": "code",
   "execution_count": 167,
   "id": "7862246f",
   "metadata": {},
   "outputs": [
    {
     "data": {
      "text/plain": [
       "<AxesSubplot:xlabel='Temperature', ylabel='day'>"
      ]
     },
     "execution_count": 167,
     "metadata": {},
     "output_type": "execute_result"
    },
    {
     "data": {
      "image/png": "[encoded data removed]",
      "text/plain": [
       "<Figure size 640x480 with 1 Axes>"
      ]
     },
     "metadata": {},
     "output_type": "display_data"
    }
   ],
   "source": [
    "sns.lineplot(x='Temperature',y='day',data=df2,color='g')"
   ]
  },
  {
   "cell_type": "markdown",
   "id": "6f20447a",
   "metadata": {},
   "source": [
    "#### observations:\n",
    "* Very low temperature at the end of the month\n",
    "* Very high temperature at the beginning of the month\n",
    "* Moderate temperature at the middle of the month"
   ]
  },
  {
   "cell_type": "markdown",
   "id": "2378fc98",
   "metadata": {},
   "source": [
    "#### Histogram\n",
    "A histogram is a display of statistical information that uses rectangles to show the frequency of data items in successive numerical intervals of equal size."
   ]
  },
  {
   "cell_type": "code",
   "execution_count": 168,
   "id": "ddbd41ba",
   "metadata": {},
   "outputs": [
    {
     "data": {
      "text/plain": [
       "array([[<AxesSubplot:title={'center':'day'}>,\n",
       "        <AxesSubplot:title={'center':'Temperature'}>]], dtype=object)"
      ]
     },
     "execution_count": 168,
     "metadata": {},
     "output_type": "execute_result"
    },
    {
     "data": {
      "image/png": "[encoded data removed]",
      "text/plain": [
       "<Figure size 2000x1400 with 2 Axes>"
      ]
     },
     "metadata": {},
     "output_type": "display_data"
    }
   ],
   "source": [
    "df2.hist(figsize=(20,14),color='b')"
   ]
  },
  {
   "cell_type": "markdown",
   "id": "7d3a4094",
   "metadata": {},
   "source": [
    "#### observations:\n",
    "* First plot is just a day distribution in a month\n",
    "* second plot/histogram as we can see temperature is normally distributed throughout the month"
   ]
  },
  {
   "cell_type": "markdown",
   "id": "c5c0fb92",
   "metadata": {},
   "source": [
    "#### Heatmap\n",
    "A histogram is a data visualization technique that shows magnitude of a phenomenon as color in two dimensions."
   ]
  },
  {
   "cell_type": "code",
   "execution_count": 172,
   "id": "bff39b27",
   "metadata": {},
   "outputs": [
    {
     "data": {
      "image/png": "[encoded data removed]",
      "text/plain": [
       "<Figure size 500x500 with 2 Axes>"
      ]
     },
     "metadata": {},
     "output_type": "display_data"
    }
   ],
   "source": [
    "plt.figure(figsize = (5,5))\n",
    "sns.heatmap(df2.corr(), cmap=\"CMRmap\", annot=True)\n",
    "plt.show()"
   ]
  },
  {
   "cell_type": "markdown",
   "id": "8fa30b3b",
   "metadata": {},
   "source": [
    "#### observations;\n",
    "* There is no negative impact of the temperature of all the days in a month which is considered.\n",
    "* Each square shows the correlation between the variables on each axis. \n",
    "* Correlation ranges from -1 to +1. Values closer to zero means there is no linear trend between the two variables.\n",
    "* The close to 1 the correlation is the more positively correlated they are; that is as one increases so does the other and the closer to 1 the stronger this relationship is. \n",
    "* A correlation closer to -1 is similar, but instead of both increasing one variable will decrease as the other increases.\n",
    "* The diagonals are all 1/dark green because those squares are correlating each variable to itself (so it's a perfect correlation). "
   ]
  },
  {
   "cell_type": "code",
   "execution_count": null,
   "id": "2fbea19a",
   "metadata": {},
   "outputs": [],
   "source": []
  }
 ],
 "metadata": {
  "kernelspec": {
   "display_name": "Python 3 (ipykernel)",
   "language": "python",
   "name": "python3"
  },
  "language_info": {
   "codemirror_mode": {
    "name": "ipython",
    "version": 3
   },
   "file_extension": ".py",
   "mimetype": "text/x-python",
   "name": "python",
   "nbconvert_exporter": "python",
   "pygments_lexer": "ipython3",
   "version": "3.9.12"
  }
 },
 "nbformat": 4,
 "nbformat_minor": 5
}
